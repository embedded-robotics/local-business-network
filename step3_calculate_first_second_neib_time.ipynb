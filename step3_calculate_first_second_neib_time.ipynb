{
 "cells": [
  {
   "cell_type": "code",
   "execution_count": 1,
   "metadata": {},
   "outputs": [],
   "source": [
    "import pickle\n",
    "import pandas as pd\n",
    "import numpy as np\n",
    "from tqdm import tqdm"
   ]
  },
  {
   "cell_type": "markdown",
   "metadata": {},
   "source": [
    "### Reading all the focal brands"
   ]
  },
  {
   "cell_type": "code",
   "execution_count": null,
   "metadata": {},
   "outputs": [],
   "source": [
    "with open('top_brands.pickle', 'rb') as file:\n",
    "    focal_brands = pickle.load(file)\n",
    "\n",
    "focal_brands"
   ]
  },
  {
   "cell_type": "markdown",
   "metadata": {},
   "source": [
    "### Reading the social data"
   ]
  },
  {
   "cell_type": "code",
   "execution_count": null,
   "metadata": {},
   "outputs": [],
   "source": [
    "with open('social_data.pickle', 'rb') as file:\n",
    "    social_data = pickle.load(file)\n",
    "\n",
    "social_data.head()"
   ]
  },
  {
   "cell_type": "markdown",
   "metadata": {},
   "source": [
    "### Reading the Data for Local Reviews of all brands having social data"
   ]
  },
  {
   "cell_type": "code",
   "execution_count": null,
   "metadata": {},
   "outputs": [],
   "source": [
    "with open('brand_visit_local_reviews.pickle', 'rb') as file:\n",
    "    brand_visit_local_reviews = pickle.load(file)\n",
    "\n",
    "brand_visit_local_reviews.head()"
   ]
  },
  {
   "cell_type": "markdown",
   "metadata": {},
   "source": [
    "### Read the travel times"
   ]
  },
  {
   "cell_type": "code",
   "execution_count": 5,
   "metadata": {},
   "outputs": [],
   "source": [
    "with open('data/travel_time.pkl', 'rb') as file:\n",
    "    travel_time_dict = pickle.load(file)"
   ]
  },
  {
   "cell_type": "code",
   "execution_count": 6,
   "metadata": {},
   "outputs": [],
   "source": [
    "travel_time_keys = list(travel_time_dict.keys())\n",
    "from_keys = [key[0] for key in travel_time_keys]\n",
    "to_keys = [key[1] for key in travel_time_keys]\n",
    "time_minutes = list(travel_time_dict.values())\n",
    "time_minutes = [int(time_inst.split(' ')[0]) for time_inst in time_minutes]"
   ]
  },
  {
   "cell_type": "code",
   "execution_count": null,
   "metadata": {},
   "outputs": [],
   "source": [
    "travel_time = pd.DataFrame({'From_PLACEKEY': from_keys, 'To_PLACEKEY': to_keys, 'Time_mins': time_minutes})\n",
    "travel_time.head()"
   ]
  },
  {
   "cell_type": "markdown",
   "metadata": {},
   "source": [
    "### Read the distance results"
   ]
  },
  {
   "cell_type": "code",
   "execution_count": null,
   "metadata": {},
   "outputs": [],
   "source": [
    "distance_results = pd.read_csv('data/distance_results.csv')\n",
    "distance_results.head()"
   ]
  },
  {
   "cell_type": "markdown",
   "metadata": {},
   "source": [
    "### Read the first and second neighbors for each store of all focal brands"
   ]
  },
  {
   "cell_type": "code",
   "execution_count": null,
   "metadata": {},
   "outputs": [],
   "source": [
    "with open('focal_brands_first_second_degree_neighbors.pickle', 'rb') as file:\n",
    "    focal_stores_first_second_neib = pickle.load(file)\n",
    "    \n",
    "focal_stores_first_second_neib = focal_stores_first_second_neib.rename(columns={0:'foc_brand_name', 1: 'first_neighbor', 2: 'second_neighbor'})\n",
    "focal_stores_first_second_neib.head()"
   ]
  },
  {
   "cell_type": "markdown",
   "metadata": {},
   "source": [
    "### Measure the time for first neighbors"
   ]
  },
  {
   "cell_type": "code",
   "execution_count": 11,
   "metadata": {},
   "outputs": [],
   "source": [
    "def get_first_neighbor_time(neighbor_row):    \n",
    "    first_neighbors_time = []\n",
    "    \n",
    "    focal_store = neighbor_row.name\n",
    "    first_neighbors_list = neighbor_row['first_neighbor']\n",
    "    \n",
    "    for i in tqdm(range(len(first_neighbors_list))):\n",
    "        try:\n",
    "            first_neighbors_time.append(travel_time[(travel_time['From_PLACEKEY'] == focal_store) & (travel_time['To_PLACEKEY'] == first_neighbors_list[i])]['Time_mins'].iloc[0])\n",
    "        except:\n",
    "            first_neighbors_time.append(np.nan)\n",
    "    \n",
    "    return first_neighbors_time"
   ]
  },
  {
   "cell_type": "code",
   "execution_count": null,
   "metadata": {},
   "outputs": [],
   "source": [
    "focal_stores_first_second_neib.loc[:,'first_neighbor_time'] = focal_stores_first_second_neib.apply(get_first_neighbor_time, axis=1)"
   ]
  },
  {
   "cell_type": "markdown",
   "metadata": {},
   "source": [
    "### Measure the time for second neighbors"
   ]
  },
  {
   "cell_type": "code",
   "execution_count": 16,
   "metadata": {},
   "outputs": [],
   "source": [
    "def get_second_neighbor_time(neighbor_row):\n",
    "    second_neib_time_dict = {}\n",
    "    \n",
    "    second_neib_dict = neighbor_row['second_neighbor']\n",
    "    first_degree_neib = list(second_neib_dict.keys())\n",
    "\n",
    "    for i in tqdm(range(len(first_degree_neib))):\n",
    "        second_neib_time = []\n",
    "        first_neib = first_degree_neib[i]\n",
    "        second_neib_list = second_neib_dict[first_neib]\n",
    "        \n",
    "        for second_neib in second_neib_list:\n",
    "            try:\n",
    "                second_neib_time.append(travel_time[(travel_time['From_PLACEKEY'] == first_neib) & (travel_time['To_PLACEKEY'] == second_neib)]['Time_mins'].iloc[0])\n",
    "            except:\n",
    "                second_neib_time.append(np.nan)\n",
    "        \n",
    "        second_neib_time_dict[first_neib] = second_neib_time\n",
    "    \n",
    "    return second_neib_time_dict"
   ]
  },
  {
   "cell_type": "code",
   "execution_count": null,
   "metadata": {},
   "outputs": [],
   "source": [
    "focal_stores_first_second_neib.loc[:,'second_neighbor_time'] = focal_stores_first_second_neib.apply(get_second_neighbor_time, axis=1)"
   ]
  },
  {
   "cell_type": "code",
   "execution_count": null,
   "metadata": {},
   "outputs": [],
   "source": [
    "with open('focal_brands_first_second_degree_neighbors_time.pickle', 'wb') as file:\n",
    "    pickle.dump(focal_stores_first_second_neib, file)"
   ]
  }
 ],
 "metadata": {
  "kernelspec": {
   "display_name": "business-network",
   "language": "python",
   "name": "python3"
  },
  "language_info": {
   "codemirror_mode": {
    "name": "ipython",
    "version": 3
   },
   "file_extension": ".py",
   "mimetype": "text/x-python",
   "name": "python",
   "nbconvert_exporter": "python",
   "pygments_lexer": "ipython3",
   "version": "3.11.9"
  }
 },
 "nbformat": 4,
 "nbformat_minor": 2
}
