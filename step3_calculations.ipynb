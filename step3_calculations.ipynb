{
 "cells": [
  {
   "cell_type": "code",
   "execution_count": 1,
   "metadata": {},
   "outputs": [],
   "source": [
    "import logging\n",
    "import pickle\n",
    "import pandas as pd\n",
    "import numpy as np\n",
    "from tqdm import tqdm\n",
    "import datetime\n",
    "from geopy.distance import geodesic"
   ]
  },
  {
   "cell_type": "code",
   "execution_count": 2,
   "metadata": {},
   "outputs": [],
   "source": [
    "logging.basicConfig(format='%(asctime)s - %(levelname)s - %(message)s', level=logging.INFO)"
   ]
  },
  {
   "cell_type": "code",
   "execution_count": 3,
   "metadata": {},
   "outputs": [
    {
     "name": "stderr",
     "output_type": "stream",
     "text": [
      "2024-10-27 00:18:55,115 - INFO - Starting the Step 3 Calculations\n"
     ]
    }
   ],
   "source": [
    "logging.info(\"Starting the Step 3 Calculations\")"
   ]
  },
  {
   "cell_type": "markdown",
   "metadata": {},
   "source": [
    "### Reading all the focal brands"
   ]
  },
  {
   "cell_type": "code",
   "execution_count": null,
   "metadata": {},
   "outputs": [],
   "source": [
    "with open('top_brands.pickle', 'rb') as file:\n",
    "    focal_brands = pickle.load(file)\n",
    "\n",
    "focal_brands"
   ]
  },
  {
   "cell_type": "markdown",
   "metadata": {},
   "source": [
    "### Reading the visitation data for all the brands"
   ]
  },
  {
   "cell_type": "code",
   "execution_count": null,
   "metadata": {},
   "outputs": [],
   "source": [
    "brands_visits = pd.read_csv('data/revision_visits_revenue_2019.csv')\n",
    "brands_visits['brand_standard'] = brands_visits['brand'].apply(lambda x: x.strip().lower()) # For comparison with catalog.tsv\n",
    "brands_visits['date'] = brands_visits['date'].apply(lambda x: datetime.datetime.strptime(x, '%Y-%m-%d').date())\n",
    "brands_visits = brands_visits.rename(columns={'brand': 'brand_visitation'})\n",
    "# Dropping unused columns\n",
    "brands_visits = brands_visits.drop(columns=['spend_by_day', 'lat', 'lon', 'brand_standard'])\n",
    "# Setting date as the index since we will group by date for calculation of metrics\n",
    "brands_visits = brands_visits.sort_values('date').set_index('date')\n",
    "brands_visits.head()"
   ]
  },
  {
   "cell_type": "markdown",
   "metadata": {},
   "source": [
    "### Reading the Data for Local Reviews of all brands having social data"
   ]
  },
  {
   "cell_type": "code",
   "execution_count": null,
   "metadata": {},
   "outputs": [],
   "source": [
    "with open('brand_visit_local_reviews.pickle', 'rb') as file:\n",
    "    brand_visit_local_reviews = pickle.load(file)\n",
    "\n",
    "brand_visit_local_reviews = brand_visit_local_reviews.drop(columns=['spend_by_day', 'lat', 'lon', 'brand_standard', 'ID', 'Name',\n",
    "                                                                    'Genre', 'Type', 'Classification', 'Status', 'Name_Standard'])\n",
    "\n",
    "brand_visit_local_reviews = brand_visit_local_reviews.sort_values('date').set_index('date')\n",
    "brand_visit_local_reviews = brand_visit_local_reviews.fillna(0)\n",
    "brand_visit_local_reviews.head()"
   ]
  },
  {
   "cell_type": "code",
   "execution_count": 5,
   "metadata": {},
   "outputs": [],
   "source": [
    "brand_visit_local_reviews_list = brand_visit_local_reviews['brand_visitation'].unique().tolist()"
   ]
  },
  {
   "cell_type": "markdown",
   "metadata": {},
   "source": [
    "### Reading the neib distance for all the neighbors"
   ]
  },
  {
   "cell_type": "code",
   "execution_count": null,
   "metadata": {},
   "outputs": [],
   "source": [
    "with open('neib_distance_km_brand.pkl', 'rb') as file:\n",
    "    neib_distance_km = pickle.load(file)\n",
    "\n",
    "# Excluding all the brands having more than 1 mile distance since we don't need them anyways for second-degree neighbor calculations\n",
    "neib_distance_km = neib_distance_km[neib_distance_km['Distance_Km']<=16.0934]\n",
    "neib_distance_km.head()"
   ]
  },
  {
   "cell_type": "markdown",
   "metadata": {},
   "source": [
    "### Reading Spatial Distance"
   ]
  },
  {
   "cell_type": "code",
   "execution_count": null,
   "metadata": {},
   "outputs": [],
   "source": [
    "distance_results = pd.read_csv('data/distance_results.csv')\n",
    "distance_results.head()"
   ]
  },
  {
   "cell_type": "markdown",
   "metadata": {},
   "source": [
    "Checking if only the focal brands are present in the FROM_Placekey"
   ]
  },
  {
   "cell_type": "code",
   "execution_count": null,
   "metadata": {},
   "outputs": [],
   "source": [
    "from_place_key_distance_brands = brands_visits[brands_visits['PLACEKEY'].isin(distance_results['From_PLACEKEY'].to_list())]['brand_visitation'].unique()\n",
    "from_place_key_distance_brands"
   ]
  },
  {
   "cell_type": "markdown",
   "metadata": {},
   "source": [
    "Checking the unique brands present in TO_Placekey"
   ]
  },
  {
   "cell_type": "code",
   "execution_count": 9,
   "metadata": {},
   "outputs": [],
   "source": [
    "to_place_key_distance_brands = brands_visits[brands_visits['PLACEKEY'].isin(distance_results['To_PLACEKEY'].to_list())]['brand_visitation'].unique()"
   ]
  },
  {
   "cell_type": "markdown",
   "metadata": {},
   "source": [
    "### Reading Travel Time"
   ]
  },
  {
   "cell_type": "code",
   "execution_count": null,
   "metadata": {},
   "outputs": [],
   "source": [
    "with open('data/travel_time.pkl', 'rb') as file:\n",
    "    travel_time_dict = pickle.load(file)\n",
    "    \n",
    "travel_time_keys = list(travel_time_dict.keys())\n",
    "from_keys = [key[0] for key in travel_time_keys]\n",
    "to_keys = [key[1] for key in travel_time_keys]\n",
    "time_minutes = list(travel_time_dict.values())\n",
    "time_minutes = [int(time_inst.split(' ')[0]) for time_inst in time_minutes]\n",
    "\n",
    "travel_time = pd.DataFrame({'From_PLACEKEY': from_keys, 'To_PLACEKEY': to_keys, 'Time_mins': time_minutes})\n",
    "travel_time.head()"
   ]
  },
  {
   "cell_type": "markdown",
   "metadata": {},
   "source": [
    "Checking if only the focal brands are present in the FROM_Placekey"
   ]
  },
  {
   "cell_type": "code",
   "execution_count": null,
   "metadata": {},
   "outputs": [],
   "source": [
    "from_place_key_time_brands = brands_visits[brands_visits['PLACEKEY'].isin(travel_time['From_PLACEKEY'].to_list())]['brand_visitation'].unique()\n",
    "from_place_key_time_brands"
   ]
  },
  {
   "cell_type": "markdown",
   "metadata": {},
   "source": [
    "Checking the unique brands present in TO_Placekey"
   ]
  },
  {
   "cell_type": "code",
   "execution_count": 12,
   "metadata": {},
   "outputs": [],
   "source": [
    "to_place_key_time_brands = brands_visits[brands_visits['PLACEKEY'].isin(travel_time['To_PLACEKEY'].to_list())]['brand_visitation'].unique()"
   ]
  },
  {
   "cell_type": "markdown",
   "metadata": {},
   "source": [
    "### Comparing the brands in distance values and time values"
   ]
  },
  {
   "cell_type": "code",
   "execution_count": null,
   "metadata": {},
   "outputs": [],
   "source": [
    "from_place_key_distance_brands.sort() == from_place_key_time_brands.sort()"
   ]
  },
  {
   "cell_type": "code",
   "execution_count": null,
   "metadata": {},
   "outputs": [],
   "source": [
    "to_place_key_distance_brands.sort() == to_place_key_time_brands.sort()"
   ]
  },
  {
   "cell_type": "markdown",
   "metadata": {},
   "source": [
    "It seems like both distance and time data have same brands in both the placekey and tokey values."
   ]
  },
  {
   "cell_type": "code",
   "execution_count": null,
   "metadata": {},
   "outputs": [],
   "source": [
    "print(len(to_place_key_distance_brands))\n",
    "print(len(to_place_key_time_brands))"
   ]
  },
  {
   "cell_type": "markdown",
   "metadata": {},
   "source": [
    "Since the total brands are only 418 which is close to what the brands we have containing local reviews (427), let's see if these are the same brands which are present in thos brands"
   ]
  },
  {
   "cell_type": "code",
   "execution_count": 16,
   "metadata": {},
   "outputs": [],
   "source": [
    "local_reviews_brands = brand_visit_local_reviews['brand_visitation'].unique()"
   ]
  },
  {
   "cell_type": "code",
   "execution_count": null,
   "metadata": {},
   "outputs": [],
   "source": [
    "print('Total Constant brands between to_placekey and brands having local reviews:', len(set(local_reviews_brands).intersection(set(to_place_key_distance_brands))))"
   ]
  },
  {
   "cell_type": "markdown",
   "metadata": {},
   "source": [
    "Since almost half of the brands don't have local reviews, so we are only going to consider the Neighboring brands from distance df for all the focal brands"
   ]
  },
  {
   "cell_type": "markdown",
   "metadata": {},
   "source": [
    "Let's see if the to_placekey contains any focal brand or not"
   ]
  },
  {
   "cell_type": "code",
   "execution_count": null,
   "metadata": {},
   "outputs": [],
   "source": [
    "set(from_place_key_distance_brands).intersection(set(to_place_key_distance_brands))"
   ]
  },
  {
   "cell_type": "markdown",
   "metadata": {},
   "source": [
    "So, now its clear that to_placekey also contains the focal brands. Now, we can go ahead and simply consider all the to_brands as the neighboring brands and from_key as the focal brands"
   ]
  },
  {
   "cell_type": "markdown",
   "metadata": {},
   "source": [
    "### Performing First Degree Neighbor Calculations"
   ]
  },
  {
   "cell_type": "markdown",
   "metadata": {},
   "source": [
    "Let's see all the focal brands we have"
   ]
  },
  {
   "cell_type": "code",
   "execution_count": null,
   "metadata": {},
   "outputs": [],
   "source": [
    "focal_brands_list = focal_brands['BRANDS'].tolist()\n",
    "focal_brands_list"
   ]
  },
  {
   "cell_type": "markdown",
   "metadata": {},
   "source": [
    "Select a focal brand and then extract all the PlaceKeys for this focal brand"
   ]
  },
  {
   "cell_type": "code",
   "execution_count": null,
   "metadata": {},
   "outputs": [],
   "source": [
    "foc_brand = focal_brands_list[0]\n",
    "foc_brand"
   ]
  },
  {
   "cell_type": "markdown",
   "metadata": {},
   "source": [
    "Getting all the store keys for this specific focal brand"
   ]
  },
  {
   "cell_type": "code",
   "execution_count": null,
   "metadata": {},
   "outputs": [],
   "source": [
    "store_keys_foc_brand = brand_visit_local_reviews[brand_visit_local_reviews['brand_visitation'] == foc_brand]['PLACEKEY'].unique().tolist()\n",
    "store_keys_foc_brand"
   ]
  },
  {
   "cell_type": "markdown",
   "metadata": {},
   "source": [
    "Getting all the neighboring keys for each store of focal brand"
   ]
  },
  {
   "cell_type": "code",
   "execution_count": null,
   "metadata": {},
   "outputs": [],
   "source": [
    "all_neib_placekey = distance_results[distance_results['From_PLACEKEY'].isin(store_keys_foc_brand)]['To_PLACEKEY'].unique().tolist()\n",
    "all_neib_placekey"
   ]
  },
  {
   "cell_type": "markdown",
   "metadata": {},
   "source": [
    "Getting Unique Neighbors for all stores of the focal brand"
   ]
  },
  {
   "cell_type": "code",
   "execution_count": 23,
   "metadata": {},
   "outputs": [],
   "source": [
    "unique_neib_brands_foc = brands_visits[brands_visits['PLACEKEY'].isin(all_neib_placekey)]['brand_visitation'].unique().tolist()"
   ]
  },
  {
   "cell_type": "code",
   "execution_count": null,
   "metadata": {},
   "outputs": [],
   "source": [
    "len(unique_neib_brands_foc)"
   ]
  },
  {
   "cell_type": "markdown",
   "metadata": {},
   "source": [
    "1. For each Unique Neighboring Brand, get all the placekeys\n",
    "2. Filter them as per Neib PlaceKeys for all the focal stores\n",
    "3. For each focal store, calculate first neib metrics (with local reviews if it is present in local_reviews, else only calculate visits from brand_visits data)"
   ]
  },
  {
   "cell_type": "code",
   "execution_count": null,
   "metadata": {},
   "outputs": [],
   "source": [
    "unique_neib = unique_neib_brands_foc[0]\n",
    "unique_neib"
   ]
  },
  {
   "cell_type": "code",
   "execution_count": null,
   "metadata": {},
   "outputs": [],
   "source": [
    "unique_neib_placekeys = brands_visits[brands_visits['brand_visitation'] == unique_neib]['PLACEKEY'].unique().tolist()\n",
    "unique_neib_placekeys"
   ]
  },
  {
   "cell_type": "code",
   "execution_count": null,
   "metadata": {},
   "outputs": [],
   "source": [
    "focal_stores_first_degree_neib = distance_results[(distance_results['From_PLACEKEY'].isin(store_keys_foc_brand)) &\n",
    "                                                (distance_results['To_PLACEKEY'].isin(unique_neib_placekeys)) &\n",
    "                                                (distance_results['Distance_km']<=16.0934)]\n",
    "focal_stores_first_degree_neib"
   ]
  },
  {
   "cell_type": "code",
   "execution_count": null,
   "metadata": {},
   "outputs": [],
   "source": [
    "store_keys_foc_brand = focal_stores_first_degree_neib['From_PLACEKEY'].unique().tolist()\n",
    "foc_store = store_keys_foc_brand[0]\n",
    "foc_store"
   ]
  },
  {
   "cell_type": "markdown",
   "metadata": {},
   "source": [
    "Calculating all the brands for the stores which can be categorized as the first degreen neighbors. All the stores of such brands need to be excluded from second degree neighbor calculation"
   ]
  },
  {
   "cell_type": "code",
   "execution_count": 29,
   "metadata": {},
   "outputs": [],
   "source": [
    "foc_store_all_first_degree_neibs = distance_results[(distance_results['From_PLACEKEY'] == foc_store) & (distance_results['Distance_km'] <= 16.0934)]['To_PLACEKEY'].to_list()\n",
    "foc_store_all_first_degree_neibs_brands = brands_visits[brands_visits['PLACEKEY'].isin(foc_store_all_first_degree_neibs)]['brand_visitation'].unique().tolist()"
   ]
  },
  {
   "cell_type": "code",
   "execution_count": null,
   "metadata": {},
   "outputs": [],
   "source": [
    "foc_store_first_degree_neibs = focal_stores_first_degree_neib[focal_stores_first_degree_neib['From_PLACEKEY'] == foc_store]['To_PLACEKEY'].to_list()\n",
    "foc_store_first_degree_neibs"
   ]
  },
  {
   "cell_type": "code",
   "execution_count": null,
   "metadata": {},
   "outputs": [],
   "source": [
    "foc_store_distance = distance_results[(distance_results['From_PLACEKEY'] == foc_store) & (distance_results['To_PLACEKEY'].isin(foc_store_first_degree_neibs))]\n",
    "foc_store_distance"
   ]
  },
  {
   "cell_type": "code",
   "execution_count": null,
   "metadata": {},
   "outputs": [],
   "source": [
    "spatial_distance_avg = np.average(foc_store_distance['Distance_km'].to_list())\n",
    "spatial_distance_avg"
   ]
  },
  {
   "cell_type": "code",
   "execution_count": null,
   "metadata": {},
   "outputs": [],
   "source": [
    "foc_store_time = travel_time[(travel_time['From_PLACEKEY'] == foc_store) & (travel_time['To_PLACEKEY'].isin(foc_store_first_degree_neibs))]\n",
    "foc_store_time"
   ]
  },
  {
   "cell_type": "code",
   "execution_count": null,
   "metadata": {},
   "outputs": [],
   "source": [
    "travel_distance_avg = np.average(foc_store_time['Time_mins'].to_list())\n",
    "travel_distance_avg"
   ]
  },
  {
   "cell_type": "markdown",
   "metadata": {},
   "source": [
    "If the unique neighbour in question is has the local reviews, then we need to calculate local neib metrics else only simple visits will be needed"
   ]
  },
  {
   "cell_type": "code",
   "execution_count": 35,
   "metadata": {},
   "outputs": [],
   "source": [
    "def calculate_first_neib_mean_reviews_visits(group_df):\n",
    "    \n",
    "    inv_visits = 0\n",
    "    inv_visits_exp = 0\n",
    "    \n",
    "    num_reviews_fb_neibmean = 0\n",
    "    num_reviews_ig_neibmean = 0\n",
    "    num_reviews_tw_neibmean = 0\n",
    "\n",
    "    num_reviews_fb_neibmean_exp = 0\n",
    "    num_reviews_ig_neibmean_exp = 0\n",
    "    num_reviews_tw_neibmean_exp = 0\n",
    "    \n",
    "    \n",
    "    for neib_store in foc_store_first_degree_neibs:\n",
    "        neib_store_time = foc_store_time[(foc_store_time['From_PLACEKEY'] == foc_store) & (foc_store_time['To_PLACEKEY'] == neib_store)]['Time_mins'].values[0]\n",
    "        \n",
    "        neib_store_reviews = group_df[group_df['PLACEKEY'] == neib_store][['localized_fb_reviews_60_days',\n",
    "                                                                            'localized_ig_reviews_60_days',\n",
    "                                                                            'localized_tw_reviews_60_days',\n",
    "                                                                            'visits_by_day']]\n",
    "        \n",
    "        fb_reviews = neib_store_reviews['localized_fb_reviews_60_days']\n",
    "        if (len(fb_reviews) != 0):\n",
    "            num_reviews_fb_neibmean += (1/neib_store_time) * fb_reviews.values[0]\n",
    "            num_reviews_fb_neibmean_exp += (1/np.exp(neib_store_time)) * fb_reviews.values[0]\n",
    "        \n",
    "        ig_reviews = neib_store_reviews['localized_ig_reviews_60_days']\n",
    "        if (len(ig_reviews) != 0):\n",
    "            num_reviews_ig_neibmean += (1/neib_store_time) * ig_reviews.values[0]\n",
    "            num_reviews_ig_neibmean_exp += (1/np.exp(neib_store_time)) * ig_reviews.values[0]\n",
    "        \n",
    "        tw_reviews = neib_store_reviews['localized_tw_reviews_60_days']\n",
    "        if (len(tw_reviews) != 0):\n",
    "            num_reviews_tw_neibmean += (1/neib_store_time) * tw_reviews.values[0]\n",
    "            num_reviews_tw_neibmean_exp += (1/np.exp(neib_store_time)) * tw_reviews.values[0]\n",
    "        \n",
    "        visits = neib_store_reviews['visits_by_day']\n",
    "        if (len(visits) != 0):\n",
    "            inv_visits += (1/neib_store_time) * visits.values[0]\n",
    "            inv_visits_exp += (1/np.exp(neib_store_time)) * visits.values[0]\n",
    "    \n",
    "    return pd.Series([foc_store, inv_visits, num_reviews_fb_neibmean, num_reviews_ig_neibmean, num_reviews_tw_neibmean,\n",
    "                      inv_visits_exp, num_reviews_fb_neibmean_exp, num_reviews_ig_neibmean_exp, num_reviews_tw_neibmean_exp])"
   ]
  },
  {
   "cell_type": "code",
   "execution_count": 36,
   "metadata": {},
   "outputs": [],
   "source": [
    "def calculate_first_neib_visits(group_df):\n",
    "    \n",
    "    inv_visits = 0\n",
    "    inv_visits_exp = 0\n",
    "    \n",
    "    num_reviews_fb_neibmean = 0\n",
    "    num_reviews_ig_neibmean = 0\n",
    "    num_reviews_tw_neibmean = 0\n",
    "\n",
    "    num_reviews_fb_neibmean_exp = 0\n",
    "    num_reviews_ig_neibmean_exp = 0\n",
    "    num_reviews_tw_neibmean_exp = 0\n",
    "    \n",
    "    \n",
    "    for neib_store in foc_store_first_degree_neibs:\n",
    "        neib_store_time = foc_store_time[(foc_store_time['From_PLACEKEY'] == foc_store) & (foc_store_time['To_PLACEKEY'] == neib_store)]['Time_mins'].values[0]\n",
    "                \n",
    "        visits = group_df[group_df['PLACEKEY'] == neib_store]['visits_by_day']\n",
    "        if (len(visits) != 0):\n",
    "            inv_visits += (1/neib_store_time) * visits.values[0]\n",
    "            inv_visits_exp += (1/np.exp(neib_store_time)) * visits.values[0]\n",
    "    \n",
    "    return pd.Series([foc_store, inv_visits, num_reviews_fb_neibmean, num_reviews_ig_neibmean, num_reviews_tw_neibmean,\n",
    "                      inv_visits_exp, num_reviews_fb_neibmean_exp, num_reviews_ig_neibmean_exp, num_reviews_tw_neibmean_exp])"
   ]
  },
  {
   "cell_type": "code",
   "execution_count": 37,
   "metadata": {},
   "outputs": [],
   "source": [
    "if unique_neib in brand_visit_local_reviews_list:\n",
    "    first_neib_metrics = brand_visit_local_reviews[brand_visit_local_reviews['PLACEKEY'].isin(foc_store_first_degree_neibs)][['PLACEKEY', 'visits_by_day','localized_fb_reviews_60_days','localized_ig_reviews_60_days', \n",
    "                                                                                                                                'localized_tw_reviews_60_days']].groupby('date').apply(calculate_first_neib_mean_reviews_visits)\n",
    "else:\n",
    "    first_neib_metrics = brands_visits[brands_visits['PLACEKEY'].isin(foc_store_first_degree_neibs)][['PLACEKEY', 'visits_by_day']].groupby('date').apply(calculate_first_neib_visits)"
   ]
  },
  {
   "cell_type": "code",
   "execution_count": null,
   "metadata": {},
   "outputs": [],
   "source": [
    "first_neib_metrics = first_neib_metrics.rename(columns={0:'focal_store', 1:'inv_visits', 2: 'num_reviews_fb_neibmean', 3:'num_reviews_ig_neibmean', 4:'num_reviews_tw_neibmean',\n",
    "                                                        5:'inv_visits_exp', 6:'num_reviews_fb_neibmean_exp', 7: 'num_reviews_ig_neibmean_exp', 8: 'num_reviews_tw_neibmean_exp'})\n",
    "first_neib_metrics.head()"
   ]
  },
  {
   "cell_type": "markdown",
   "metadata": {},
   "source": [
    "### Calculating metrics for second degree brands"
   ]
  },
  {
   "cell_type": "code",
   "execution_count": null,
   "metadata": {},
   "outputs": [],
   "source": [
    "foc_store"
   ]
  },
  {
   "cell_type": "code",
   "execution_count": null,
   "metadata": {},
   "outputs": [],
   "source": [
    "foc_store_first_degree_neibs"
   ]
  },
  {
   "cell_type": "code",
   "execution_count": null,
   "metadata": {},
   "outputs": [],
   "source": [
    "# Excluding first degree neighboring brand, all the first degree neighbors brand stores, and calculating the second degree neighbors (less than 1 mile)\n",
    "second_neib_df = neib_distance_km[neib_distance_km['SRC_PLACEKEY'].isin(foc_store_first_degree_neibs) &\n",
    "                                (~neib_distance_km['DST_BRAND'].isin(foc_store_all_first_degree_neibs_brands)) &\n",
    "                                (neib_distance_km['DST_BRAND'] != unique_neib)]\n",
    "second_neib_df"
   ]
  },
  {
   "cell_type": "code",
   "execution_count": null,
   "metadata": {},
   "outputs": [],
   "source": [
    "second_neib_df_local_reviews = second_neib_df[second_neib_df['DST_BRAND'].isin(brand_visit_local_reviews_list)]\n",
    "second_neib_df_local_reviews"
   ]
  },
  {
   "cell_type": "code",
   "execution_count": 49,
   "metadata": {},
   "outputs": [],
   "source": [
    "first_deg_stores = second_neib_df['SRC_PLACEKEY'].unique().tolist()\n",
    "second_deg_stores = second_neib_df['DST_PLACEKEY'].unique().tolist()"
   ]
  },
  {
   "cell_type": "code",
   "execution_count": 50,
   "metadata": {},
   "outputs": [],
   "source": [
    "first_deg_stores_local_reviews = second_neib_df_local_reviews['SRC_PLACEKEY'].unique().tolist()\n",
    "second_deg_stores_local_reviews = second_neib_df_local_reviews['DST_PLACEKEY'].unique().tolist()"
   ]
  },
  {
   "cell_type": "code",
   "execution_count": null,
   "metadata": {},
   "outputs": [],
   "source": [
    "first_deg_stores"
   ]
  },
  {
   "cell_type": "code",
   "execution_count": 52,
   "metadata": {},
   "outputs": [],
   "source": [
    "def calculate_second_neib_visits(group_df):\n",
    "    \n",
    "    inv_visits_secondneibmean = 0\n",
    "    inv_visits_secondneibmean_exp = 0\n",
    "    \n",
    "    for first_deg_store in first_deg_stores:\n",
    "        inv_visits = 0\n",
    "        inv_visits_exp = 0\n",
    "        first_deg_store_dist = foc_store_distance[(foc_store_distance['From_PLACEKEY'] == foc_store) & (foc_store_distance['To_PLACEKEY'] == first_deg_store)]['Distance_km'].values[0]\n",
    "        \n",
    "        second_deg_store_placekey = second_neib_df[second_neib_df['SRC_PLACEKEY'] == first_deg_store]['DST_PLACEKEY'].to_list()\n",
    "        second_deg_store_distance = second_neib_df[second_neib_df['SRC_PLACEKEY'] == first_deg_store]['Distance_Km'].to_list()        \n",
    "        \n",
    "        # for i in range(len(second_deg_store_placekey)):\n",
    "        for i in range(10):\n",
    "            visits = group_df[group_df['PLACEKEY'] == second_deg_store_placekey[i]]['visits_by_day']\n",
    "            if (len(visits) != 0):\n",
    "                inv_visits += (1/second_deg_store_distance[i]) * visits.values[0]\n",
    "                inv_visits_exp += (1/np.exp(second_deg_store_distance[i])) * visits.values[0]\n",
    "        \n",
    "        inv_visits_secondneibmean += (1/first_deg_store_dist) * inv_visits\n",
    "        inv_visits_secondneibmean_exp += (1/np.exp(first_deg_store_dist)) * inv_visits_exp\n",
    "    \n",
    "    return pd.Series([foc_store, inv_visits_secondneibmean, inv_visits_secondneibmean_exp])"
   ]
  },
  {
   "cell_type": "code",
   "execution_count": null,
   "metadata": {},
   "outputs": [],
   "source": [
    "second_neib_brand_stores = brands_visits[brands_visits['PLACEKEY'].isin(second_deg_stores)][['PLACEKEY', 'visits_by_day']]\n",
    "second_neib_metrics_visits = second_neib_brand_stores.groupby('date').apply(calculate_second_neib_visits)\n",
    "second_neib_metrics_visits = second_neib_metrics_visits.rename(columns={0: 'focal_store', 1:'inv_visits_secondneibmean', 2:'inv_visits_secondneibmean_exp'}).reset_index()\n",
    "second_neib_metrics_visits.head()"
   ]
  },
  {
   "cell_type": "code",
   "execution_count": 54,
   "metadata": {},
   "outputs": [],
   "source": [
    "def calculate_second_neib_mean_reviews(group_df):\n",
    "    \n",
    "    num_reviews_fb_secondneibmean = 0\n",
    "    num_reviews_ig_secondneibmean = 0\n",
    "    num_reviews_tw_secondneibmean = 0\n",
    "    num_reviews_fb_secondneibmean_exp = 0\n",
    "    num_reviews_ig_secondneibmean_exp = 0\n",
    "    num_reviews_tw_secondneibmean_exp = 0\n",
    "    \n",
    "    for first_deg_store in first_deg_stores_local_reviews:\n",
    "        \n",
    "        num_reviews_fb_neibmean = 0\n",
    "        num_reviews_ig_neibmean = 0\n",
    "        num_reviews_tw_neibmean = 0\n",
    "        num_reviews_fb_neibmean_exp = 0\n",
    "        num_reviews_ig_neibmean_exp = 0\n",
    "        num_reviews_tw_neibmean_exp = 0\n",
    "        \n",
    "        first_deg_store_dist = foc_store_distance[(foc_store_distance['From_PLACEKEY'] == foc_store) & (foc_store_distance['To_PLACEKEY'] == first_deg_store)]['Distance_km'].values[0]\n",
    "        \n",
    "        second_deg_store_placekey = second_neib_df_local_reviews[second_neib_df_local_reviews['SRC_PLACEKEY'] == first_deg_store]['DST_PLACEKEY'].to_list()\n",
    "        second_deg_store_distance = second_neib_df_local_reviews[second_neib_df_local_reviews['SRC_PLACEKEY'] == first_deg_store]['Distance_Km'].to_list()\n",
    "        \n",
    "        # for i in range(len(second_deg_store_placekey)):\n",
    "        for i in range(10):\n",
    "            second_neib_brand_stores_local_reviews = group_df[group_df['PLACEKEY'] == second_deg_store_placekey[i]][['localized_fb_reviews_60_days',\n",
    "                                                                                                                 'localized_ig_reviews_60_days',\n",
    "                                                                                                                 'localized_tw_reviews_60_days']]\n",
    "            fb_reviews = second_neib_brand_stores_local_reviews['localized_fb_reviews_60_days']\n",
    "            if (len(fb_reviews) != 0):\n",
    "                num_reviews_fb_neibmean += (1/second_deg_store_distance[i]) * fb_reviews.values[0]\n",
    "                num_reviews_fb_neibmean_exp += (1/np.exp(second_deg_store_distance[i])) * fb_reviews.values[0]\n",
    "            \n",
    "            ig_reviews = second_neib_brand_stores_local_reviews['localized_ig_reviews_60_days']\n",
    "            if (len(ig_reviews) != 0):\n",
    "                num_reviews_ig_neibmean += (1/second_deg_store_distance[i]) * ig_reviews.values[0]\n",
    "                num_reviews_ig_neibmean_exp += (1/np.exp(second_deg_store_distance[i])) * ig_reviews.values[0]\n",
    "            \n",
    "            tw_reviews = second_neib_brand_stores_local_reviews['localized_tw_reviews_60_days']\n",
    "            if (len(tw_reviews) != 0):\n",
    "                num_reviews_tw_neibmean += (1/second_deg_store_distance[i]) * tw_reviews.values[0]\n",
    "                num_reviews_tw_neibmean_exp += (1/np.exp(second_deg_store_distance[i])) * tw_reviews.values[0]\n",
    "\n",
    "        num_reviews_fb_secondneibmean += (1/first_deg_store_dist) * num_reviews_fb_neibmean\n",
    "        num_reviews_ig_secondneibmean += (1/first_deg_store_dist) * num_reviews_ig_neibmean\n",
    "        num_reviews_tw_secondneibmean += (1/first_deg_store_dist) * num_reviews_tw_neibmean\n",
    "        \n",
    "        num_reviews_fb_secondneibmean_exp += (1/np.exp(first_deg_store_dist)) * num_reviews_fb_neibmean_exp\n",
    "        num_reviews_ig_secondneibmean_exp += (1/np.exp(first_deg_store_dist)) * num_reviews_ig_neibmean_exp\n",
    "        num_reviews_tw_secondneibmean_exp += (1/np.exp(first_deg_store_dist)) * num_reviews_tw_neibmean_exp\n",
    "    \n",
    "    return pd.Series([foc_store, num_reviews_fb_secondneibmean, num_reviews_ig_secondneibmean, num_reviews_tw_secondneibmean, \n",
    "                      num_reviews_fb_secondneibmean_exp, num_reviews_ig_secondneibmean_exp, num_reviews_tw_secondneibmean_exp])"
   ]
  },
  {
   "cell_type": "code",
   "execution_count": null,
   "metadata": {},
   "outputs": [],
   "source": [
    "second_neib_brand_stores_local_reviews = brand_visit_local_reviews[brand_visit_local_reviews['PLACEKEY'].isin(second_deg_stores_local_reviews)][['PLACEKEY',\n",
    "                                                                                                                                                 'localized_fb_reviews_60_days',\n",
    "                                                                                                                                                 'localized_ig_reviews_60_days', \n",
    "                                                                                                                                                 'localized_tw_reviews_60_days']]\n",
    "second_neib_metrics_local_reviews = second_neib_brand_stores_local_reviews.groupby('date').apply(calculate_second_neib_mean_reviews)\n",
    "\n",
    "second_neib_metrics_local_reviews = second_neib_metrics_local_reviews.rename(columns={0: 'focal_store', 1:'num_reviews_fb_secondneibmean', 2:'num_reviews_ig_secondneibmean',\n",
    "                                                                                      3: 'num_reviews_tw_secondneibmean', 4: 'num_reviews_fb_secondneibmean_exp',\n",
    "                                                                                      5: 'num_reviews_ig_secondneibmean_exp', 6: 'num_reviews_tw_secondneibmean_exp'}).reset_index()\n",
    "second_neib_metrics_local_reviews.head()"
   ]
  },
  {
   "cell_type": "code",
   "execution_count": null,
   "metadata": {},
   "outputs": [],
   "source": [
    "second_neib_metrics = pd.merge(left=second_neib_metrics_visits, right=second_neib_metrics_local_reviews, how='inner', on=['date', 'focal_store'])\n",
    "second_neib_metrics.head()"
   ]
  },
  {
   "cell_type": "markdown",
   "metadata": {},
   "source": [
    "### Extracting metrics for the specific focal store in terms of local reviews"
   ]
  },
  {
   "cell_type": "code",
   "execution_count": null,
   "metadata": {},
   "outputs": [],
   "source": [
    "brand_visit_local_reviews"
   ]
  },
  {
   "cell_type": "code",
   "execution_count": 72,
   "metadata": {},
   "outputs": [],
   "source": [
    "# Extracting Local Review Information for the focal store\n",
    "focal_store_information = brand_visit_local_reviews[brand_visit_local_reviews['PLACEKEY'] == foc_store][['PLACEKEY', 'brand_visitation', 'visits_by_day', 'visits_past_60_days',\n",
    "                                                                                                         'localized_fb_reviews_60_days', 'localized_ig_reviews_60_days', 'localized_tw_reviews_60_days']]"
   ]
  },
  {
   "cell_type": "code",
   "execution_count": 73,
   "metadata": {},
   "outputs": [],
   "source": [
    "# Combining distance metrics with the focal store info\n",
    "focal_store_information['spatial_distance_km'] = spatial_distance_avg\n",
    "focal_store_information['travel_distance_min'] = travel_distance_avg"
   ]
  },
  {
   "cell_type": "code",
   "execution_count": null,
   "metadata": {},
   "outputs": [],
   "source": [
    "focal_store_information"
   ]
  },
  {
   "cell_type": "code",
   "execution_count": null,
   "metadata": {},
   "outputs": [],
   "source": [
    "pd.merge(left=focal_store_information, right=first_neib_metrics, how='inner', on=['date']).drop('focal_store', axis=1)"
   ]
  },
  {
   "cell_type": "code",
   "execution_count": 76,
   "metadata": {},
   "outputs": [],
   "source": [
    "# Combining first and second degree neighbor metrics with the focal store info\n",
    "focal_store_information = pd.merge(left=focal_store_information, right=first_neib_metrics, how='inner', on=['date']).drop('focal_store', axis=1)\n",
    "focal_store_information = pd.merge(left=focal_store_information, right=second_neib_metrics, how='inner', on=['date']).drop('focal_store', axis=1)\n",
    "focal_store_information = focal_store_information.sort_values('date').fillna(0)"
   ]
  },
  {
   "cell_type": "code",
   "execution_count": null,
   "metadata": {},
   "outputs": [],
   "source": [
    "focal_store_information.head()"
   ]
  },
  {
   "cell_type": "code",
   "execution_count": null,
   "metadata": {},
   "outputs": [],
   "source": []
  }
 ],
 "metadata": {
  "kernelspec": {
   "display_name": "business-network",
   "language": "python",
   "name": "python3"
  },
  "language_info": {
   "codemirror_mode": {
    "name": "ipython",
    "version": 3
   },
   "file_extension": ".py",
   "mimetype": "text/x-python",
   "name": "python",
   "nbconvert_exporter": "python",
   "pygments_lexer": "ipython3",
   "version": "3.11.9"
  }
 },
 "nbformat": 4,
 "nbformat_minor": 2
}
