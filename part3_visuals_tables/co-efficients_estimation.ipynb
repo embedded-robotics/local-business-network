{
 "cells": [
  {
   "cell_type": "code",
   "execution_count": null,
   "metadata": {},
   "outputs": [],
   "source": [
    "import pandas as pd\n",
    "import os\n",
    "import matplotlib.pyplot as plt\n",
    "import pickle\n",
    "import datetime\n",
    "import numpy as np\n",
    "import random\n",
    "import seaborn as sns"
   ]
  },
  {
   "cell_type": "markdown",
   "metadata": {},
   "source": [
    "Specifying all the focal brands"
   ]
  },
  {
   "cell_type": "code",
   "execution_count": null,
   "metadata": {},
   "outputs": [],
   "source": [
    "focal_brands = ['Sephora',\n",
    " 'ULTA Beauty',\n",
    " 'Olive Garden',\n",
    " 'The Cheesecake Factory',\n",
    " 'Target',\n",
    " 'Walmart',\n",
    " 'Anthropologie',\n",
    " \"Victoria's Secret\"]"
   ]
  },
  {
   "cell_type": "markdown",
   "metadata": {},
   "source": [
    "Reading the social brands catalog to get visits later for each store"
   ]
  },
  {
   "cell_type": "code",
   "execution_count": null,
   "metadata": {},
   "outputs": [],
   "source": [
    "brands_visits = pd.read_csv('../data/revision_visits_revenue_2019.csv')\n",
    "brands_visits['brand_standard'] = brands_visits['brand'].apply(lambda x: x.strip().lower()) # For comparison with catalog.tsv\n",
    "brands_visits['date'] = brands_visits['date'].apply(lambda x: datetime.datetime.strptime(x, '%Y-%m-%d').date())\n",
    "brands_visits = brands_visits.rename(columns={'brand': 'brand_visitation'})\n",
    "brands_visits.head()"
   ]
  },
  {
   "cell_type": "markdown",
   "metadata": {},
   "source": [
    "Reading Travel Time"
   ]
  },
  {
   "cell_type": "code",
   "execution_count": null,
   "metadata": {},
   "outputs": [],
   "source": [
    "with open('../data/travel_time.pkl', 'rb') as file:\n",
    "    travel_time_dict = pickle.load(file)\n",
    "    \n",
    "travel_time_keys = list(travel_time_dict.keys())\n",
    "from_keys = [key[0] for key in travel_time_keys]\n",
    "to_keys = [key[1] for key in travel_time_keys]\n",
    "time_minutes = list(travel_time_dict.values())\n",
    "time_minutes = [int(time_inst.split(' ')[0]) for time_inst in time_minutes]\n",
    "\n",
    "travel_time = pd.DataFrame({'From_PLACEKEY': from_keys, 'To_PLACEKEY': to_keys, 'Time_mins': time_minutes})\n",
    "travel_time.head()"
   ]
  },
  {
   "cell_type": "markdown",
   "metadata": {},
   "source": [
    "Reading the statistics of the specific focal brand using the results of Part 2"
   ]
  },
  {
   "cell_type": "code",
   "execution_count": null,
   "metadata": {},
   "outputs": [],
   "source": [
    "brand = focal_brands[1]\n",
    "focal_brand_path = os.path.join('../part2_r_statistics', brand)\n",
    "focal_brand_path"
   ]
  },
  {
   "cell_type": "markdown",
   "metadata": {},
   "source": [
    "Reading all the neighboring brands results for the selected focal brand"
   ]
  },
  {
   "cell_type": "code",
   "execution_count": null,
   "metadata": {},
   "outputs": [],
   "source": [
    "file_list = os.listdir(focal_brand_path)\n",
    "result_file_list = [file for file in file_list if file.find('_result') != -1]"
   ]
  },
  {
   "cell_type": "code",
   "execution_count": null,
   "metadata": {},
   "outputs": [],
   "source": [
    "result_df = pd.DataFrame()\n",
    "\n",
    "for result_file in result_file_list:\n",
    "    result_file_path = os.path.join(focal_brand_path, result_file)\n",
    "    tmp_res_df = pd.read_csv(result_file_path, skiprows=1, float_precision=\"round_trip\")\n",
    "    # Removing all the records for ols and m_olsExp\n",
    "    if 'filename' in tmp_res_df['filename'].tolist(): #Wrong input\n",
    "        continue\n",
    "    result_df = pd.concat([result_df, tmp_res_df], ignore_index=True)"
   ]
  },
  {
   "cell_type": "code",
   "execution_count": null,
   "metadata": {},
   "outputs": [],
   "source": [
    "result_df = result_df[~result_df['type'].isin(['ols', 'm_olsExp'])].reset_index(drop=True)\n",
    "result_df = result_df.replace('FALSE', False).replace('False', False)\n",
    "# result_df.iloc[:,3:] = result_df.iloc[:,3:].astype('float64', copy=True)"
   ]
  },
  {
   "cell_type": "code",
   "execution_count": null,
   "metadata": {},
   "outputs": [],
   "source": [
    "result_df"
   ]
  },
  {
   "cell_type": "code",
   "execution_count": null,
   "metadata": {},
   "outputs": [],
   "source": [
    "sum(result_df['filename'].value_counts() == 1)"
   ]
  },
  {
   "cell_type": "code",
   "execution_count": null,
   "metadata": {},
   "outputs": [],
   "source": [
    "sum(result_df['filename'].value_counts() == 2)"
   ]
  },
  {
   "cell_type": "code",
   "execution_count": null,
   "metadata": {},
   "outputs": [],
   "source": [
    "sum(result_df['filename'].value_counts() == 3)"
   ]
  },
  {
   "cell_type": "code",
   "execution_count": null,
   "metadata": {},
   "outputs": [],
   "source": [
    "sum(result_df['filename'].value_counts() == 4)"
   ]
  },
  {
   "cell_type": "markdown",
   "metadata": {},
   "source": [
    "Only getting those brands who have values for all the four models"
   ]
  },
  {
   "cell_type": "code",
   "execution_count": null,
   "metadata": {},
   "outputs": [],
   "source": [
    "count_list = result_df['filename'].value_counts()\n",
    "valid_brands = count_list[count_list == 4].index.to_list() # having the values of all the four models\n",
    "len(valid_brands)"
   ]
  },
  {
   "cell_type": "code",
   "execution_count": null,
   "metadata": {},
   "outputs": [],
   "source": [
    "result_df = result_df[result_df['filename'].isin(valid_brands)]\n",
    "result_df"
   ]
  },
  {
   "cell_type": "markdown",
   "metadata": {},
   "source": [
    "Extract the significant neighboring brands whose p-values for all the models are significant (<0.05) i.e., X_Pr(>|t|)"
   ]
  },
  {
   "cell_type": "code",
   "execution_count": null,
   "metadata": {},
   "outputs": [],
   "source": [
    "def filter_brands_pvalue(brand_pvalue):\n",
    "    pvalues = brand_pvalue.values\n",
    "    \n",
    "    if (pvalues[0] < 0.05) and (pvalues[1] < 0.05) and (pvalues[2] < 0.05) and (pvalues[3] < 0.05):\n",
    "        return True\n",
    "    else:\n",
    "        return False"
   ]
  },
  {
   "cell_type": "code",
   "execution_count": null,
   "metadata": {},
   "outputs": [],
   "source": [
    "significant_brands = result_df.groupby('filename')['X_Pr(>|t|)'].apply(filter_brands_pvalue)\n",
    "significant_brands_list = significant_brands [significant_brands == True].index.to_list()"
   ]
  },
  {
   "cell_type": "code",
   "execution_count": null,
   "metadata": {},
   "outputs": [],
   "source": [
    "significant_brands_list"
   ]
  },
  {
   "cell_type": "markdown",
   "metadata": {},
   "source": [
    "### Making the Figure D1 and D2\n",
    "\n",
    "1. Then we need to plot their X_Estimate for each of the four models\n",
    "2. Then we need to put stars at the neighboring brands as per the p-value for each model \\\n",
    "-> *** means p_value <= 0.01 \\\n",
    "-> ** means 0.01 < p_value <= 0.05 \\\n",
    "-> * means 0.05 < p_value <= 0.1"
   ]
  },
  {
   "cell_type": "code",
   "execution_count": null,
   "metadata": {},
   "outputs": [],
   "source": [
    "def get_pvalue_stars(p_value):\n",
    "    if p_value <= 0.01:\n",
    "        return '***'\n",
    "    elif 0.01 < p_value <= 0.05:\n",
    "        return '**'\n",
    "    elif 0.05 < p_value <= 0.1:\n",
    "        return '*'\n",
    "    else:\n",
    "        return ''"
   ]
  },
  {
   "cell_type": "code",
   "execution_count": null,
   "metadata": {},
   "outputs": [],
   "source": [
    "coeff_est_df = result_df[result_df['filename'].isin(significant_brands_list)]\n",
    "coeff_est_df['X_pvalue_stars'] = coeff_est_df['X_Pr(>|t|)'].apply(get_pvalue_stars)\n",
    "coeff_est_df"
   ]
  },
  {
   "cell_type": "code",
   "execution_count": null,
   "metadata": {},
   "outputs": [],
   "source": [
    "lin_reviews = coeff_est_df[coeff_est_df['type'] == 'fe_reviews_reviews'].sort_values('X_Estimate', ascending=False)\n",
    "lin_visits = coeff_est_df[coeff_est_df['type'] == 'fe_reviews_visits'].sort_values('X_Estimate', ascending=False)\n",
    "exp_reviews = coeff_est_df[coeff_est_df['type'] == 'fe_exp_reviews_reviews'].sort_values('X_Estimate', ascending=False)\n",
    "exp_visits = coeff_est_df[coeff_est_df['type'] == 'fe_exp_reviews_visits'].sort_values('X_Estimate', ascending=False)"
   ]
  },
  {
   "cell_type": "code",
   "execution_count": null,
   "metadata": {},
   "outputs": [],
   "source": [
    "def prepare_first_stage_results_review(row):\n",
    "    # Twitter Vaues\n",
    "    tw_estimate = format(float(row['IV_firststage_reviews_tw_Estimate']), '.2e')\n",
    "    tw_std_err = format(float(row['IV_firststage_reviews_tw_Std. Error']), '.2e')\n",
    "    tw_p_value = float(row['IV_firststage_reviews_tw_Pr(>|t|)'])\n",
    "    \n",
    "    # Facebook Vaues\n",
    "    fb_estimate = format(float(row['IV_firststage_reviews_fb_Estimate']), '.2e')\n",
    "    fb_std_err = format(float(row['IV_firststage_reviews_fb_Std. Error']), '.2e')\n",
    "    fb_p_value = float(row['IV_firststage_reviews_fb_Pr(>|t|)'])\n",
    "    \n",
    "    # Instagram Vaues\n",
    "    ig_estimate = format(float(row['IV_firststage_reviews_ig_Estimate']), '.2e')\n",
    "    ig_std_err = format(float(row['IV_firststage_reviews_ig_Std. Error']), '.2e')\n",
    "    ig_p_value = float(row['IV_firststage_reviews_ig_Pr(>|t|)'])\n",
    "    \n",
    "    # Getting table entries\n",
    "    twitter_likes = str(tw_estimate) + get_pvalue_stars(tw_p_value) + \"({})\".format(tw_std_err)\n",
    "    facebook_likes = str(fb_estimate) + get_pvalue_stars(fb_p_value) + \"({})\".format(fb_std_err)\n",
    "    instagram_likes = str(ig_estimate) + get_pvalue_stars(ig_p_value) + \"({})\".format(ig_std_err)\n",
    "    \n",
    "    # Calculating significant variables\n",
    "    num_sig = 0\n",
    "    \n",
    "    if (tw_p_value <= 0.05):\n",
    "        num_sig += 1\n",
    "\n",
    "    if (fb_p_value <= 0.05):\n",
    "        num_sig += 1\n",
    "\n",
    "    if (ig_p_value <= 0.05):\n",
    "        num_sig += 1\n",
    "    \n",
    "    # Getting WaldTest F-Stats\n",
    "    wald_f_stat = row['WaldTest_F']\n",
    "        \n",
    "    return pd.Series([twitter_likes, facebook_likes, instagram_likes, num_sig, wald_f_stat],\n",
    "                     index=['Twitter Likes', 'Facebook Likes', 'Instagram Likes', 'Num Sig', 'Weka Instrument (F-stats)'])"
   ]
  },
  {
   "cell_type": "code",
   "execution_count": null,
   "metadata": {},
   "outputs": [],
   "source": [
    "def prepare_first_stage_results_visits(row):\n",
    "    # Visits Vaues\n",
    "    visits_estimate = format(float(row['IV_firststage_visits_Estimate']), '.2e')\n",
    "    visits_std_err = format(float(row['IV_firststage_visits_Std. Error']), '.2e')\n",
    "    visits_p_value = float(row['IV_firststage_visits_Pr(>|t|)'])\n",
    "        \n",
    "    # Getting table entries\n",
    "    visits = str(visits_estimate) + get_pvalue_stars(visits_p_value) + \"({})\".format(visits_std_err)\n",
    "        \n",
    "    # Getting WaldTest F-Stats\n",
    "    wald_f_stat = row['WaldTest_F']\n",
    "        \n",
    "    return pd.Series([visits, wald_f_stat],\n",
    "                     index=['Visits', 'Weka Instrument (F-stats)'])"
   ]
  },
  {
   "cell_type": "code",
   "execution_count": null,
   "metadata": {},
   "outputs": [],
   "source": [
    "first_stage_linear_reviews = lin_reviews.apply(prepare_first_stage_results_review, axis=1, result_type='expand').reset_index(drop=True)\n",
    "first_stage_linear_reviews"
   ]
  },
  {
   "cell_type": "code",
   "execution_count": null,
   "metadata": {},
   "outputs": [],
   "source": [
    "first_stage_linear_visits = lin_visits.apply(prepare_first_stage_results_visits, axis=1, result_type='expand').reset_index(drop=True)\n",
    "first_stage_linear_visits"
   ]
  },
  {
   "cell_type": "code",
   "execution_count": null,
   "metadata": {},
   "outputs": [],
   "source": [
    "first_stage_exp_reviews = exp_reviews.apply(prepare_first_stage_results_review, axis=1, result_type='expand').reset_index(drop=True)\n",
    "first_stage_exp_reviews"
   ]
  },
  {
   "cell_type": "code",
   "execution_count": null,
   "metadata": {},
   "outputs": [],
   "source": [
    "first_stage_exp_visits = exp_visits.apply(prepare_first_stage_results_visits, axis=1, result_type='expand').reset_index(drop=True)\n",
    "first_stage_exp_visits"
   ]
  },
  {
   "cell_type": "code",
   "execution_count": null,
   "metadata": {},
   "outputs": [],
   "source": [
    "custom_colors = {\n",
    "    'positive': '#6488ea',  # Blue for positive estimates\n",
    "    'star': '#922b05',  # Red for negative estimates\n",
    "    'negative': '#3d9973'       # Prettier yellow for stars\n",
    "}\n",
    "\n",
    "confidence_level = 0.95\n",
    "lin_reviews['Lower Bound'] = lin_reviews['X_Estimate'] - 1.96 * lin_reviews['X_Std. Error']\n",
    "lin_reviews['Upper Bound'] = lin_reviews['X_Estimate'] + 1.96 * lin_reviews['X_Std. Error']\n",
    "\n",
    "# Create figure and axes\n",
    "fig, ax = plt.subplots(figsize=(8,8))\n",
    "\n",
    "# Add a constant offset for stars\n",
    "star_offset = 0.1\n",
    "    \n",
    "# Set the font size for the stars\n",
    "star_fontsize = 15\n",
    "\n",
    "# Plotting estimates and confidence intervals for each business\n",
    "for idx, row in lin_reviews.iterrows():\n",
    "    biz_biz = row['filename']\n",
    "    estimate = row['X_Estimate']\n",
    "    std_error = row['X_Std. Error']\n",
    "    lower_bound = row['Lower Bound']\n",
    "    upper_bound = row['Upper Bound']\n",
    "\n",
    "    # Determine the color based on the sign of the estimate\n",
    "    color = custom_colors['positive'] if estimate >= 0 else custom_colors['negative']\n",
    "\n",
    "    # Plotting the bars with different colors for positive and negative estimates\n",
    "    ax.barh(biz_biz, estimate, xerr=[[estimate - lower_bound], [upper_bound - estimate]], color=color)\n",
    "\n",
    "    # Add stars based on the number of *s in the \"coefficients\" column with an offset\n",
    "    stars = row['X_pvalue_stars'].count('*')\n",
    "    if stars > 0:\n",
    "        # Set the alignment for negative estimates\n",
    "        ha = 'left' if estimate >= 0 else 'right'\n",
    "        ax.text(estimate + star_offset if estimate >= 0 else estimate - star_offset, biz_biz, '*' * stars, va='center', ha=ha, color=custom_colors['star'], fontsize=star_fontsize)\n",
    "\n",
    "plt.axvline(x=0, linestyle='--', color='gray')  # Plotting a dashed line for the estimate\n",
    "\n",
    "plt.tight_layout()\n",
    "\n",
    "# Add labels and title\n",
    "ax.set_xlabel('Estimate')\n",
    "ax.set_title('Linear Reviews')\n",
    "ax.set_xscale('symlog')\n",
    "\n",
    "# Show the plot\n",
    "plt.show()"
   ]
  },
  {
   "cell_type": "code",
   "execution_count": null,
   "metadata": {},
   "outputs": [],
   "source": [
    "custom_colors = {\n",
    "    'positive': '#6488ea',  # Blue for positive estimates\n",
    "    'star': '#922b05',  # Red for negative estimates\n",
    "    'negative': '#3d9973'       # Prettier yellow for stars\n",
    "}\n",
    "\n",
    "confidence_level = 0.95\n",
    "lin_visits['Lower Bound'] = lin_visits['X_Estimate'] - 1.96 * lin_visits['X_Std. Error']\n",
    "lin_visits['Upper Bound'] = lin_visits['X_Estimate'] + 1.96 * lin_visits['X_Std. Error']\n",
    "\n",
    "# Create figure and axes\n",
    "fig, ax = plt.subplots(figsize=(8,8))\n",
    "\n",
    "# Add a constant offset for stars\n",
    "star_offset = 0.1\n",
    "    \n",
    "# Set the font size for the stars\n",
    "star_fontsize = 15\n",
    "\n",
    "# Plotting estimates and confidence intervals for each business\n",
    "for idx, row in lin_visits.iterrows():\n",
    "    biz_biz = row['filename']\n",
    "    estimate = row['X_Estimate']\n",
    "    std_error = row['X_Std. Error']\n",
    "    lower_bound = row['Lower Bound']\n",
    "    upper_bound = row['Upper Bound']\n",
    "\n",
    "    # Determine the color based on the sign of the estimate\n",
    "    color = custom_colors['positive'] if estimate >= 0 else custom_colors['negative']\n",
    "\n",
    "    # Plotting the bars with different colors for positive and negative estimates\n",
    "    ax.barh(biz_biz, estimate, xerr=[[estimate - lower_bound], [upper_bound - estimate]], color=color)\n",
    "\n",
    "    # Add stars based on the number of *s in the \"coefficients\" column with an offset\n",
    "    stars = row['X_pvalue_stars'].count('*')\n",
    "    if stars > 0:\n",
    "        # Set the alignment for negative estimates\n",
    "        ha = 'left' if estimate >= 0 else 'right'\n",
    "        ax.text(estimate + star_offset if estimate >= 0 else estimate - star_offset, biz_biz, '*' * stars, va='center', ha=ha, color=custom_colors['star'], fontsize=star_fontsize)\n",
    "\n",
    "plt.axvline(x=0, linestyle='--', color='gray')  # Plotting a dashed line for the estimate\n",
    "\n",
    "plt.tight_layout()\n",
    "\n",
    "# Add labels and title\n",
    "ax.set_xlabel('Estimate')\n",
    "ax.set_title('Linear Visits')\n",
    "ax.set_xscale('symlog')\n",
    "ax.set_xlim()\n",
    "\n",
    "# Show the plot\n",
    "plt.show()"
   ]
  },
  {
   "cell_type": "code",
   "execution_count": null,
   "metadata": {},
   "outputs": [],
   "source": [
    "custom_colors = {\n",
    "    'positive': '#6488ea',  # Blue for positive estimates\n",
    "    'star': '#922b05',  # Red for negative estimates\n",
    "    'negative': '#3d9973'       # Prettier yellow for stars\n",
    "}\n",
    "\n",
    "confidence_level = 0.95\n",
    "exp_reviews['Lower Bound'] = exp_reviews['X_Estimate'] - 1.96 * exp_reviews['X_Std. Error']\n",
    "exp_reviews['Upper Bound'] = exp_reviews['X_Estimate'] + 1.96 * exp_reviews['X_Std. Error']\n",
    "\n",
    "# Create figure and axes\n",
    "fig, ax = plt.subplots(figsize=(8,8))\n",
    "\n",
    "# Add a constant offset for stars\n",
    "star_offset = 0.1\n",
    "    \n",
    "# Set the font size for the stars\n",
    "star_fontsize = 15\n",
    "\n",
    "# Plotting estimates and confidence intervals for each business\n",
    "for idx, row in exp_reviews.iterrows():\n",
    "    biz_biz = row['filename']\n",
    "    estimate = row['X_Estimate']\n",
    "    std_error = row['X_Std. Error']\n",
    "    lower_bound = row['Lower Bound']\n",
    "    upper_bound = row['Upper Bound']\n",
    "\n",
    "    # Determine the color based on the sign of the estimate\n",
    "    color = custom_colors['positive'] if estimate >= 0 else custom_colors['negative']\n",
    "\n",
    "    # Plotting the bars with different colors for positive and negative estimates\n",
    "    ax.barh(biz_biz, estimate, xerr=[[estimate - lower_bound], [upper_bound - estimate]], color=color)\n",
    "\n",
    "    # Add stars based on the number of *s in the \"coefficients\" column with an offset\n",
    "    stars = row['X_pvalue_stars'].count('*')\n",
    "    if stars > 0:\n",
    "        # Set the alignment for negative estimates\n",
    "        ha = 'left' if estimate >= 0 else 'right'\n",
    "        ax.text(estimate + star_offset if estimate >= 0 else estimate - star_offset, biz_biz, '*' * stars, va='center', ha=ha, color=custom_colors['star'], fontsize=star_fontsize)\n",
    "\n",
    "plt.axvline(x=0, linestyle='--', color='gray')  # Plotting a dashed line for the estimate\n",
    "\n",
    "plt.tight_layout()\n",
    "\n",
    "# Add labels and title\n",
    "ax.set_xlabel('Estimate')\n",
    "ax.set_title('Exponential Reviews')\n",
    "ax.set_xscale('symlog')\n",
    "\n",
    "# Show the plot\n",
    "plt.show()"
   ]
  },
  {
   "cell_type": "code",
   "execution_count": null,
   "metadata": {},
   "outputs": [],
   "source": [
    "custom_colors = {\n",
    "    'positive': '#6488ea',  # Blue for positive estimates\n",
    "    'star': '#922b05',  # Red for negative estimates\n",
    "    'negative': '#3d9973'       # Prettier yellow for stars\n",
    "}\n",
    "\n",
    "confidence_level = 0.95\n",
    "exp_visits['Lower Bound'] = exp_visits['X_Estimate'] - 1.96 * exp_visits['X_Std. Error']\n",
    "exp_visits['Upper Bound'] = exp_visits['X_Estimate'] + 1.96 * exp_visits['X_Std. Error']\n",
    "\n",
    "# Create figure and axes\n",
    "fig, ax = plt.subplots(figsize=(8,8))\n",
    "\n",
    "# Add a constant offset for stars\n",
    "star_offset = 0.1\n",
    "    \n",
    "# Set the font size for the stars\n",
    "star_fontsize = 15\n",
    "\n",
    "# Plotting estimates and confidence intervals for each business\n",
    "for idx, row in exp_visits.iterrows():\n",
    "    biz_biz = row['filename']\n",
    "    estimate = row['X_Estimate']\n",
    "    std_error = row['X_Std. Error']\n",
    "    lower_bound = row['Lower Bound']\n",
    "    upper_bound = row['Upper Bound']\n",
    "\n",
    "    # Determine the color based on the sign of the estimate\n",
    "    color = custom_colors['positive'] if estimate >= 0 else custom_colors['negative']\n",
    "\n",
    "    # Plotting the bars with different colors for positive and negative estimates\n",
    "    ax.barh(biz_biz, estimate, xerr=[[estimate - lower_bound], [upper_bound - estimate]], color=color)\n",
    "\n",
    "    # Add stars based on the number of *s in the \"coefficients\" column with an offset\n",
    "    stars = row['X_pvalue_stars'].count('*')\n",
    "    if stars > 0:\n",
    "        # Set the alignment for negative estimates\n",
    "        ha = 'left' if estimate >= 0 else 'right'\n",
    "        ax.text(estimate + star_offset if estimate >= 0 else estimate - star_offset, biz_biz, '*' * stars, va='center', ha=ha, color=custom_colors['star'], fontsize=star_fontsize)\n",
    "\n",
    "plt.axvline(x=0, linestyle='--', color='gray')  # Plotting a dashed line for the estimate\n",
    "\n",
    "plt.tight_layout()\n",
    "\n",
    "# Add labels and title\n",
    "ax.set_xlabel('Estimate')\n",
    "ax.set_title('Exponential Visits')\n",
    "ax.set_xscale('symlog')\n",
    "\n",
    "# Show the plot\n",
    "plt.show()"
   ]
  },
  {
   "cell_type": "code",
   "execution_count": null,
   "metadata": {},
   "outputs": [],
   "source": []
  },
  {
   "cell_type": "code",
   "execution_count": null,
   "metadata": {},
   "outputs": [],
   "source": []
  }
 ],
 "metadata": {
  "kernelspec": {
   "display_name": "business-network",
   "language": "python",
   "name": "python3"
  },
  "language_info": {
   "codemirror_mode": {
    "name": "ipython",
    "version": 3
   },
   "file_extension": ".py",
   "mimetype": "text/x-python",
   "name": "python",
   "nbconvert_exporter": "python",
   "pygments_lexer": "ipython3",
   "version": "3.11.9"
  }
 },
 "nbformat": 4,
 "nbformat_minor": 2
}
