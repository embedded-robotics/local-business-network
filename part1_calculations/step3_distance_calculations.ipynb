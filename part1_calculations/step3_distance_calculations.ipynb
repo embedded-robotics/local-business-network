{
 "cells": [
  {
   "cell_type": "code",
   "execution_count": 1,
   "metadata": {},
   "outputs": [],
   "source": [
    "import pickle\n",
    "import pandas as pd\n",
    "import numpy as np\n",
    "from tqdm import tqdm\n",
    "import datetime\n",
    "from geopy.distance import geodesic"
   ]
  },
  {
   "cell_type": "markdown",
   "metadata": {},
   "source": [
    "Reading all the brands"
   ]
  },
  {
   "cell_type": "code",
   "execution_count": 2,
   "metadata": {},
   "outputs": [
    {
     "data": {
      "text/html": [
       "<div>\n",
       "<style scoped>\n",
       "    .dataframe tbody tr th:only-of-type {\n",
       "        vertical-align: middle;\n",
       "    }\n",
       "\n",
       "    .dataframe tbody tr th {\n",
       "        vertical-align: top;\n",
       "    }\n",
       "\n",
       "    .dataframe thead th {\n",
       "        text-align: right;\n",
       "    }\n",
       "</style>\n",
       "<table border=\"1\" class=\"dataframe\">\n",
       "  <thead>\n",
       "    <tr style=\"text-align: right;\">\n",
       "      <th></th>\n",
       "      <th>date</th>\n",
       "      <th>PLACEKEY</th>\n",
       "      <th>visits_by_day</th>\n",
       "      <th>spend_by_day</th>\n",
       "      <th>brand_visitation</th>\n",
       "      <th>lat</th>\n",
       "      <th>lon</th>\n",
       "      <th>brand_standard</th>\n",
       "    </tr>\n",
       "  </thead>\n",
       "  <tbody>\n",
       "    <tr>\n",
       "      <th>0</th>\n",
       "      <td>2019-06-01</td>\n",
       "      <td>zzw-222@62j-sgj-q2k</td>\n",
       "      <td>5</td>\n",
       "      <td>0.0</td>\n",
       "      <td>Orangetheory Fitness</td>\n",
       "      <td>42.350592</td>\n",
       "      <td>-71.153024</td>\n",
       "      <td>orangetheory fitness</td>\n",
       "    </tr>\n",
       "    <tr>\n",
       "      <th>1</th>\n",
       "      <td>2019-06-02</td>\n",
       "      <td>zzw-222@62j-sgj-q2k</td>\n",
       "      <td>1</td>\n",
       "      <td>0.0</td>\n",
       "      <td>Orangetheory Fitness</td>\n",
       "      <td>42.350592</td>\n",
       "      <td>-71.153024</td>\n",
       "      <td>orangetheory fitness</td>\n",
       "    </tr>\n",
       "    <tr>\n",
       "      <th>2</th>\n",
       "      <td>2019-06-03</td>\n",
       "      <td>zzw-222@62j-sgj-q2k</td>\n",
       "      <td>6</td>\n",
       "      <td>859.0</td>\n",
       "      <td>Orangetheory Fitness</td>\n",
       "      <td>42.350592</td>\n",
       "      <td>-71.153024</td>\n",
       "      <td>orangetheory fitness</td>\n",
       "    </tr>\n",
       "    <tr>\n",
       "      <th>3</th>\n",
       "      <td>2019-06-04</td>\n",
       "      <td>zzw-222@62j-sgj-q2k</td>\n",
       "      <td>6</td>\n",
       "      <td>30.0</td>\n",
       "      <td>Orangetheory Fitness</td>\n",
       "      <td>42.350592</td>\n",
       "      <td>-71.153024</td>\n",
       "      <td>orangetheory fitness</td>\n",
       "    </tr>\n",
       "    <tr>\n",
       "      <th>4</th>\n",
       "      <td>2019-06-05</td>\n",
       "      <td>zzw-222@62j-sgj-q2k</td>\n",
       "      <td>8</td>\n",
       "      <td>193.0</td>\n",
       "      <td>Orangetheory Fitness</td>\n",
       "      <td>42.350592</td>\n",
       "      <td>-71.153024</td>\n",
       "      <td>orangetheory fitness</td>\n",
       "    </tr>\n",
       "  </tbody>\n",
       "</table>\n",
       "</div>"
      ],
      "text/plain": [
       "         date             PLACEKEY  visits_by_day  spend_by_day  \\\n",
       "0  2019-06-01  zzw-222@62j-sgj-q2k              5           0.0   \n",
       "1  2019-06-02  zzw-222@62j-sgj-q2k              1           0.0   \n",
       "2  2019-06-03  zzw-222@62j-sgj-q2k              6         859.0   \n",
       "3  2019-06-04  zzw-222@62j-sgj-q2k              6          30.0   \n",
       "4  2019-06-05  zzw-222@62j-sgj-q2k              8         193.0   \n",
       "\n",
       "       brand_visitation        lat        lon        brand_standard  \n",
       "0  Orangetheory Fitness  42.350592 -71.153024  orangetheory fitness  \n",
       "1  Orangetheory Fitness  42.350592 -71.153024  orangetheory fitness  \n",
       "2  Orangetheory Fitness  42.350592 -71.153024  orangetheory fitness  \n",
       "3  Orangetheory Fitness  42.350592 -71.153024  orangetheory fitness  \n",
       "4  Orangetheory Fitness  42.350592 -71.153024  orangetheory fitness  "
      ]
     },
     "execution_count": 2,
     "metadata": {},
     "output_type": "execute_result"
    }
   ],
   "source": [
    "brands_visits = pd.read_csv('data/revision_visits_revenue_2019.csv')\n",
    "brands_visits['brand_standard'] = brands_visits['brand'].apply(lambda x: x.strip().lower()) # For comparison with catalog.tsv\n",
    "brands_visits['date'] = brands_visits['date'].apply(lambda x: datetime.datetime.strptime(x, '%Y-%m-%d').date())\n",
    "brands_visits = brands_visits.rename(columns={'brand': 'brand_visitation'})\n",
    "brands_visits.head()"
   ]
  },
  {
   "cell_type": "markdown",
   "metadata": {},
   "source": [
    "Extracting all the unique brand placekeys"
   ]
  },
  {
   "cell_type": "code",
   "execution_count": 15,
   "metadata": {},
   "outputs": [],
   "source": [
    "unique_brand_placekeys = brands_visits[['PLACEKEY', 'lat', 'lon']].groupby(['PLACEKEY'])[['lat', 'lon']].apply(lambda x: x.iloc[0]).reset_index()"
   ]
  },
  {
   "cell_type": "code",
   "execution_count": 16,
   "metadata": {},
   "outputs": [],
   "source": [
    "# Function to calculate the distance between two coordinates\n",
    "def calculate_distance_km(df_row):\n",
    "    global lat_src\n",
    "    global lon_src\n",
    "    global placekey_src\n",
    "    lat_dst = df_row['lat']\n",
    "    lon_dst = df_row['lon']\n",
    "    placekey_dst = df_row['PLACEKEY']\n",
    "    \n",
    "    dist_km = geodesic((lat_src, lon_src), (lat_dst, lon_dst)).km\n",
    "    \n",
    "    return pd.Series([placekey_src, placekey_dst, dist_km])"
   ]
  },
  {
   "cell_type": "code",
   "execution_count": 22,
   "metadata": {},
   "outputs": [
    {
     "name": "stderr",
     "output_type": "stream",
     "text": [
      "  0%|          | 0/3 [00:00<?, ?it/s]/tmp/ipykernel_784200/974208352.py:15: FutureWarning: The behavior of DataFrame concatenation with empty or all-NA entries is deprecated. In a future version, this will no longer exclude empty or all-NA columns when determining the result dtypes. To retain the old behavior, exclude the relevant entries before the concat operation.\n",
      "  neib_distance_km_df = pd.concat([neib_distance_km_df, temp_df], axis=0).reset_index(drop=True)\n",
      "100%|██████████| 3/3 [00:06<00:00,  2.21s/it]\n"
     ]
    }
   ],
   "source": [
    "global lat_src\n",
    "global lon_src\n",
    "global placekey_src\n",
    "neib_distance_km_df = pd.DataFrame(columns=['SRC_PLACEKEY', 'DST_PLACEKEY', 'Distance_Km'])\n",
    "\n",
    "for i in tqdm(range(len(unique_brand_placekeys))):\n",
    "    row_src = unique_brand_placekeys.iloc[i]\n",
    "    placekey_src = row_src['PLACEKEY']\n",
    "    lat_src = row_src['lat']\n",
    "    lon_src = row_src['lon']\n",
    "\n",
    "    temp_df = unique_brand_placekeys.apply(calculate_distance_km, axis=1).rename(columns={0:'SRC_PLACEKEY', 1: 'DST_PLACEKEY', 2: 'Distance_Km'})\n",
    "        \n",
    "    neib_distance_km_df = pd.concat([neib_distance_km_df, temp_df], axis=0).reset_index(drop=True)"
   ]
  },
  {
   "cell_type": "code",
   "execution_count": 25,
   "metadata": {},
   "outputs": [],
   "source": [
    "# with open('neib_distance_km.pkl', 'wb') as file:\n",
    "#     pickle.dump(neib_distance_km_df, file)"
   ]
  },
  {
   "cell_type": "markdown",
   "metadata": {},
   "source": [
    "### Calculating the brands for DST_PLACEKEY stores"
   ]
  },
  {
   "cell_type": "code",
   "execution_count": 7,
   "metadata": {},
   "outputs": [],
   "source": [
    "brands_dict = brands_visits[['PLACEKEY', 'brand_visitation']].groupby(['PLACEKEY'])['brand_visitation'].apply(lambda x: x.iloc[0]).to_dict()"
   ]
  },
  {
   "cell_type": "code",
   "execution_count": 10,
   "metadata": {},
   "outputs": [],
   "source": [
    "with open('neib_distance_km.pkl', 'rb') as file:\n",
    "    neib_distance_km_df = pickle.load(file)"
   ]
  },
  {
   "cell_type": "code",
   "execution_count": 11,
   "metadata": {},
   "outputs": [
    {
     "data": {
      "text/html": [
       "<div>\n",
       "<style scoped>\n",
       "    .dataframe tbody tr th:only-of-type {\n",
       "        vertical-align: middle;\n",
       "    }\n",
       "\n",
       "    .dataframe tbody tr th {\n",
       "        vertical-align: top;\n",
       "    }\n",
       "\n",
       "    .dataframe thead th {\n",
       "        text-align: right;\n",
       "    }\n",
       "</style>\n",
       "<table border=\"1\" class=\"dataframe\">\n",
       "  <thead>\n",
       "    <tr style=\"text-align: right;\">\n",
       "      <th></th>\n",
       "      <th>SRC_PLACEKEY</th>\n",
       "      <th>DST_PLACEKEY</th>\n",
       "      <th>Distance_Km</th>\n",
       "    </tr>\n",
       "  </thead>\n",
       "  <tbody>\n",
       "    <tr>\n",
       "      <th>0</th>\n",
       "      <td>222-222@628-zxy-rc5</td>\n",
       "      <td>222-222@628-zxy-rc5</td>\n",
       "      <td>0.000000</td>\n",
       "    </tr>\n",
       "    <tr>\n",
       "      <th>1</th>\n",
       "      <td>222-222@628-zxy-rc5</td>\n",
       "      <td>222-222@628-zxy-tn5</td>\n",
       "      <td>0.255103</td>\n",
       "    </tr>\n",
       "    <tr>\n",
       "      <th>2</th>\n",
       "      <td>222-222@628-zxy-rc5</td>\n",
       "      <td>222-222@628-zy4-89z</td>\n",
       "      <td>3.765942</td>\n",
       "    </tr>\n",
       "    <tr>\n",
       "      <th>3</th>\n",
       "      <td>222-222@628-zxy-rc5</td>\n",
       "      <td>222-222@628-zz4-c5z</td>\n",
       "      <td>3.790174</td>\n",
       "    </tr>\n",
       "    <tr>\n",
       "      <th>4</th>\n",
       "      <td>222-222@628-zxy-rc5</td>\n",
       "      <td>222-222@628-zzp-f2k</td>\n",
       "      <td>5.166696</td>\n",
       "    </tr>\n",
       "  </tbody>\n",
       "</table>\n",
       "</div>"
      ],
      "text/plain": [
       "          SRC_PLACEKEY         DST_PLACEKEY  Distance_Km\n",
       "0  222-222@628-zxy-rc5  222-222@628-zxy-rc5     0.000000\n",
       "1  222-222@628-zxy-rc5  222-222@628-zxy-tn5     0.255103\n",
       "2  222-222@628-zxy-rc5  222-222@628-zy4-89z     3.765942\n",
       "3  222-222@628-zxy-rc5  222-222@628-zz4-c5z     3.790174\n",
       "4  222-222@628-zxy-rc5  222-222@628-zzp-f2k     5.166696"
      ]
     },
     "execution_count": 11,
     "metadata": {},
     "output_type": "execute_result"
    }
   ],
   "source": [
    "neib_distance_km_df.head()"
   ]
  },
  {
   "cell_type": "code",
   "execution_count": 13,
   "metadata": {},
   "outputs": [],
   "source": [
    "neib_distance_km_df['DST_BRAND'] = neib_distance_km_df['DST_PLACEKEY'].apply(lambda x: brands_dict[x])"
   ]
  },
  {
   "cell_type": "code",
   "execution_count": 15,
   "metadata": {},
   "outputs": [],
   "source": [
    "with open('neib_distance_km_brand.pkl', 'wb') as file:\n",
    "    pickle.dump(neib_distance_km_df, file)"
   ]
  },
  {
   "cell_type": "code",
   "execution_count": null,
   "metadata": {},
   "outputs": [],
   "source": []
  }
 ],
 "metadata": {
  "kernelspec": {
   "display_name": "business-network",
   "language": "python",
   "name": "python3"
  },
  "language_info": {
   "codemirror_mode": {
    "name": "ipython",
    "version": 3
   },
   "file_extension": ".py",
   "mimetype": "text/x-python",
   "name": "python",
   "nbconvert_exporter": "python",
   "pygments_lexer": "ipython3",
   "version": "3.11.9"
  }
 },
 "nbformat": 4,
 "nbformat_minor": 2
}
