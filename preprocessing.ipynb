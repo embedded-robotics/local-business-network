{
 "cells": [
  {
   "cell_type": "code",
   "execution_count": 1,
   "metadata": {},
   "outputs": [],
   "source": [
    "import pickle\n",
    "import pandas as pd\n",
    "import datetime\n",
    "import numpy as np"
   ]
  },
  {
   "cell_type": "markdown",
   "metadata": {},
   "source": [
    "### Getting all the focal brands"
   ]
  },
  {
   "cell_type": "code",
   "execution_count": 2,
   "metadata": {},
   "outputs": [
    {
     "data": {
      "text/html": [
       "<div>\n",
       "<style scoped>\n",
       "    .dataframe tbody tr th:only-of-type {\n",
       "        vertical-align: middle;\n",
       "    }\n",
       "\n",
       "    .dataframe tbody tr th {\n",
       "        vertical-align: top;\n",
       "    }\n",
       "\n",
       "    .dataframe thead th {\n",
       "        text-align: right;\n",
       "    }\n",
       "</style>\n",
       "<table border=\"1\" class=\"dataframe\">\n",
       "  <thead>\n",
       "    <tr style=\"text-align: right;\">\n",
       "      <th></th>\n",
       "      <th>SUB_CATEGORY</th>\n",
       "      <th>BRANDS</th>\n",
       "      <th>Total_Spend</th>\n",
       "      <th>Total_Visits</th>\n",
       "      <th>Unique_PLACEKEY_Count</th>\n",
       "    </tr>\n",
       "  </thead>\n",
       "  <tbody>\n",
       "    <tr>\n",
       "      <th>0</th>\n",
       "      <td>Cosmetics, Beauty Supplies, and Perfume Stores</td>\n",
       "      <td>Sephora</td>\n",
       "      <td>1913415.32</td>\n",
       "      <td>702927</td>\n",
       "      <td>15</td>\n",
       "    </tr>\n",
       "    <tr>\n",
       "      <th>1</th>\n",
       "      <td>Cosmetics, Beauty Supplies, and Perfume Stores</td>\n",
       "      <td>ULTA Beauty</td>\n",
       "      <td>1339844.15</td>\n",
       "      <td>404546</td>\n",
       "      <td>20</td>\n",
       "    </tr>\n",
       "    <tr>\n",
       "      <th>2</th>\n",
       "      <td>Full-Service Restaurants</td>\n",
       "      <td>Olive Garden</td>\n",
       "      <td>1058844.15</td>\n",
       "      <td>125651</td>\n",
       "      <td>15</td>\n",
       "    </tr>\n",
       "    <tr>\n",
       "      <th>3</th>\n",
       "      <td>Full-Service Restaurants</td>\n",
       "      <td>The Cheesecake Factory</td>\n",
       "      <td>974090.35</td>\n",
       "      <td>473745</td>\n",
       "      <td>5</td>\n",
       "    </tr>\n",
       "    <tr>\n",
       "      <th>4</th>\n",
       "      <td>Warehouse Clubs and Supercenters</td>\n",
       "      <td>Target</td>\n",
       "      <td>41977753.97</td>\n",
       "      <td>2053582</td>\n",
       "      <td>50</td>\n",
       "    </tr>\n",
       "  </tbody>\n",
       "</table>\n",
       "</div>"
      ],
      "text/plain": [
       "                                     SUB_CATEGORY                  BRANDS  \\\n",
       "0  Cosmetics, Beauty Supplies, and Perfume Stores                 Sephora   \n",
       "1  Cosmetics, Beauty Supplies, and Perfume Stores             ULTA Beauty   \n",
       "2                        Full-Service Restaurants            Olive Garden   \n",
       "3                        Full-Service Restaurants  The Cheesecake Factory   \n",
       "4                Warehouse Clubs and Supercenters                  Target   \n",
       "\n",
       "   Total_Spend  Total_Visits  Unique_PLACEKEY_Count  \n",
       "0   1913415.32        702927                     15  \n",
       "1   1339844.15        404546                     20  \n",
       "2   1058844.15        125651                     15  \n",
       "3    974090.35        473745                      5  \n",
       "4  41977753.97       2053582                     50  "
      ]
     },
     "execution_count": 2,
     "metadata": {},
     "output_type": "execute_result"
    }
   ],
   "source": [
    "top_brands = pd.read_csv('data/top_brands_by_category.csv')\n",
    "top_brands.head()"
   ]
  },
  {
   "cell_type": "code",
   "execution_count": 3,
   "metadata": {},
   "outputs": [
    {
     "data": {
      "text/plain": [
       "['Sephora',\n",
       " 'ULTA Beauty',\n",
       " 'Olive Garden',\n",
       " 'The Cheesecake Factory',\n",
       " 'Target',\n",
       " 'Walmart',\n",
       " 'Anthropologie',\n",
       " \"Victoria's Secret\"]"
      ]
     },
     "execution_count": 3,
     "metadata": {},
     "output_type": "execute_result"
    }
   ],
   "source": [
    "focal_brands = top_brands['BRANDS'].to_list()\n",
    "focal_brands"
   ]
  },
  {
   "cell_type": "markdown",
   "metadata": {},
   "source": [
    "### Getting the brands catalog"
   ]
  },
  {
   "cell_type": "code",
   "execution_count": 4,
   "metadata": {},
   "outputs": [
    {
     "data": {
      "text/html": [
       "<div>\n",
       "<style scoped>\n",
       "    .dataframe tbody tr th:only-of-type {\n",
       "        vertical-align: middle;\n",
       "    }\n",
       "\n",
       "    .dataframe tbody tr th {\n",
       "        vertical-align: top;\n",
       "    }\n",
       "\n",
       "    .dataframe thead th {\n",
       "        text-align: right;\n",
       "    }\n",
       "</style>\n",
       "<table border=\"1\" class=\"dataframe\">\n",
       "  <thead>\n",
       "    <tr style=\"text-align: right;\">\n",
       "      <th></th>\n",
       "      <th>ID</th>\n",
       "      <th>Name</th>\n",
       "      <th>Genre</th>\n",
       "      <th>Type</th>\n",
       "      <th>Classification</th>\n",
       "      <th>Status</th>\n",
       "      <th>Name_Standard</th>\n",
       "    </tr>\n",
       "  </thead>\n",
       "  <tbody>\n",
       "    <tr>\n",
       "      <th>0</th>\n",
       "      <td>1</td>\n",
       "      <td>+44 (Band)</td>\n",
       "      <td>ART</td>\n",
       "      <td>Interscope-Geffen-A&amp;M</td>\n",
       "      <td>Alternative</td>\n",
       "      <td>Inactive</td>\n",
       "      <td>+44 (band)</td>\n",
       "    </tr>\n",
       "    <tr>\n",
       "      <th>1</th>\n",
       "      <td>2</td>\n",
       "      <td>10 Years</td>\n",
       "      <td>ART</td>\n",
       "      <td>Unsigned</td>\n",
       "      <td>Rock</td>\n",
       "      <td>Active</td>\n",
       "      <td>10 years</td>\n",
       "    </tr>\n",
       "    <tr>\n",
       "      <th>2</th>\n",
       "      <td>3</td>\n",
       "      <td>12 Stones</td>\n",
       "      <td>ART</td>\n",
       "      <td>Concord Records</td>\n",
       "      <td>Rock</td>\n",
       "      <td>Active</td>\n",
       "      <td>12 stones</td>\n",
       "    </tr>\n",
       "    <tr>\n",
       "      <th>3</th>\n",
       "      <td>4</td>\n",
       "      <td>13th Floor Elevators</td>\n",
       "      <td>ART</td>\n",
       "      <td>International Artists</td>\n",
       "      <td>Rock</td>\n",
       "      <td>Inactive</td>\n",
       "      <td>13th floor elevators</td>\n",
       "    </tr>\n",
       "    <tr>\n",
       "      <th>4</th>\n",
       "      <td>5</td>\n",
       "      <td>2 Pistols</td>\n",
       "      <td>ART</td>\n",
       "      <td>Universal Motown Records</td>\n",
       "      <td>Hip Hop/Rap</td>\n",
       "      <td>Active</td>\n",
       "      <td>2 pistols</td>\n",
       "    </tr>\n",
       "  </tbody>\n",
       "</table>\n",
       "</div>"
      ],
      "text/plain": [
       "   ID                  Name Genre                      Type Classification  \\\n",
       "0   1            +44 (Band)   ART     Interscope-Geffen-A&M    Alternative   \n",
       "1   2              10 Years   ART                  Unsigned           Rock   \n",
       "2   3             12 Stones   ART           Concord Records           Rock   \n",
       "3   4  13th Floor Elevators   ART     International Artists           Rock   \n",
       "4   5             2 Pistols   ART  Universal Motown Records    Hip Hop/Rap   \n",
       "\n",
       "     Status         Name_Standard  \n",
       "0  Inactive            +44 (band)  \n",
       "1    Active              10 years  \n",
       "2    Active             12 stones  \n",
       "3  Inactive  13th floor elevators  \n",
       "4    Active             2 pistols  "
      ]
     },
     "execution_count": 4,
     "metadata": {},
     "output_type": "execute_result"
    }
   ],
   "source": [
    "brands_catalog = pd.read_csv('data/catalog.tsv', sep='\\t', header=None, names=['ID', 'Name', 'Genre', 'Type', 'Classification', 'Status'])\n",
    "brands_catalog['Name_Standard'] = brands_catalog['Name'].apply(lambda x: x.strip().lower()) # For comparison with visitation_data.csv\n",
    "brands_catalog.head()"
   ]
  },
  {
   "cell_type": "markdown",
   "metadata": {},
   "source": [
    "### Getting the brand visitation data"
   ]
  },
  {
   "cell_type": "code",
   "execution_count": 5,
   "metadata": {},
   "outputs": [
    {
     "data": {
      "text/html": [
       "<div>\n",
       "<style scoped>\n",
       "    .dataframe tbody tr th:only-of-type {\n",
       "        vertical-align: middle;\n",
       "    }\n",
       "\n",
       "    .dataframe tbody tr th {\n",
       "        vertical-align: top;\n",
       "    }\n",
       "\n",
       "    .dataframe thead th {\n",
       "        text-align: right;\n",
       "    }\n",
       "</style>\n",
       "<table border=\"1\" class=\"dataframe\">\n",
       "  <thead>\n",
       "    <tr style=\"text-align: right;\">\n",
       "      <th></th>\n",
       "      <th>date</th>\n",
       "      <th>PLACEKEY</th>\n",
       "      <th>visits_by_day</th>\n",
       "      <th>spend_by_day</th>\n",
       "      <th>brand_visitation</th>\n",
       "      <th>lat</th>\n",
       "      <th>lon</th>\n",
       "      <th>brand_standard</th>\n",
       "    </tr>\n",
       "  </thead>\n",
       "  <tbody>\n",
       "    <tr>\n",
       "      <th>0</th>\n",
       "      <td>2019-06-01</td>\n",
       "      <td>zzw-222@62j-sgj-q2k</td>\n",
       "      <td>5</td>\n",
       "      <td>0.0</td>\n",
       "      <td>Orangetheory Fitness</td>\n",
       "      <td>42.350592</td>\n",
       "      <td>-71.153024</td>\n",
       "      <td>orangetheory fitness</td>\n",
       "    </tr>\n",
       "    <tr>\n",
       "      <th>1</th>\n",
       "      <td>2019-06-02</td>\n",
       "      <td>zzw-222@62j-sgj-q2k</td>\n",
       "      <td>1</td>\n",
       "      <td>0.0</td>\n",
       "      <td>Orangetheory Fitness</td>\n",
       "      <td>42.350592</td>\n",
       "      <td>-71.153024</td>\n",
       "      <td>orangetheory fitness</td>\n",
       "    </tr>\n",
       "    <tr>\n",
       "      <th>2</th>\n",
       "      <td>2019-06-03</td>\n",
       "      <td>zzw-222@62j-sgj-q2k</td>\n",
       "      <td>6</td>\n",
       "      <td>859.0</td>\n",
       "      <td>Orangetheory Fitness</td>\n",
       "      <td>42.350592</td>\n",
       "      <td>-71.153024</td>\n",
       "      <td>orangetheory fitness</td>\n",
       "    </tr>\n",
       "    <tr>\n",
       "      <th>3</th>\n",
       "      <td>2019-06-04</td>\n",
       "      <td>zzw-222@62j-sgj-q2k</td>\n",
       "      <td>6</td>\n",
       "      <td>30.0</td>\n",
       "      <td>Orangetheory Fitness</td>\n",
       "      <td>42.350592</td>\n",
       "      <td>-71.153024</td>\n",
       "      <td>orangetheory fitness</td>\n",
       "    </tr>\n",
       "    <tr>\n",
       "      <th>4</th>\n",
       "      <td>2019-06-05</td>\n",
       "      <td>zzw-222@62j-sgj-q2k</td>\n",
       "      <td>8</td>\n",
       "      <td>193.0</td>\n",
       "      <td>Orangetheory Fitness</td>\n",
       "      <td>42.350592</td>\n",
       "      <td>-71.153024</td>\n",
       "      <td>orangetheory fitness</td>\n",
       "    </tr>\n",
       "  </tbody>\n",
       "</table>\n",
       "</div>"
      ],
      "text/plain": [
       "         date             PLACEKEY  visits_by_day  spend_by_day  \\\n",
       "0  2019-06-01  zzw-222@62j-sgj-q2k              5           0.0   \n",
       "1  2019-06-02  zzw-222@62j-sgj-q2k              1           0.0   \n",
       "2  2019-06-03  zzw-222@62j-sgj-q2k              6         859.0   \n",
       "3  2019-06-04  zzw-222@62j-sgj-q2k              6          30.0   \n",
       "4  2019-06-05  zzw-222@62j-sgj-q2k              8         193.0   \n",
       "\n",
       "       brand_visitation        lat        lon        brand_standard  \n",
       "0  Orangetheory Fitness  42.350592 -71.153024  orangetheory fitness  \n",
       "1  Orangetheory Fitness  42.350592 -71.153024  orangetheory fitness  \n",
       "2  Orangetheory Fitness  42.350592 -71.153024  orangetheory fitness  \n",
       "3  Orangetheory Fitness  42.350592 -71.153024  orangetheory fitness  \n",
       "4  Orangetheory Fitness  42.350592 -71.153024  orangetheory fitness  "
      ]
     },
     "execution_count": 5,
     "metadata": {},
     "output_type": "execute_result"
    }
   ],
   "source": [
    "brands_visits = pd.read_csv('data/revision_visits_revenue_2019.csv')\n",
    "brands_visits['brand_standard'] = brands_visits['brand'].apply(lambda x: x.strip().lower()) # For comparison with catalog.tsv\n",
    "brands_visits['date'] = brands_visits['date'].apply(lambda x: datetime.datetime.strptime(x, '%Y-%m-%d').date())\n",
    "brands_visits = brands_visits.rename(columns={'brand': 'brand_visitation'})\n",
    "brands_visits.head()"
   ]
  },
  {
   "cell_type": "code",
   "execution_count": 6,
   "metadata": {},
   "outputs": [
    {
     "name": "stdout",
     "output_type": "stream",
     "text": [
      "Unique Brands having visitation data:  999\n"
     ]
    }
   ],
   "source": [
    "print('Unique Brands having visitation data: ', len(brands_visits['brand_standard'].unique()))"
   ]
  },
  {
   "cell_type": "markdown",
   "metadata": {},
   "source": [
    "Calculating all the brands which have visitation data, and they are present in the catalog as well (have a valid ID which can be used to fetch the social data)"
   ]
  },
  {
   "cell_type": "code",
   "execution_count": 7,
   "metadata": {},
   "outputs": [
    {
     "data": {
      "text/html": [
       "<div>\n",
       "<style scoped>\n",
       "    .dataframe tbody tr th:only-of-type {\n",
       "        vertical-align: middle;\n",
       "    }\n",
       "\n",
       "    .dataframe tbody tr th {\n",
       "        vertical-align: top;\n",
       "    }\n",
       "\n",
       "    .dataframe thead th {\n",
       "        text-align: right;\n",
       "    }\n",
       "</style>\n",
       "<table border=\"1\" class=\"dataframe\">\n",
       "  <thead>\n",
       "    <tr style=\"text-align: right;\">\n",
       "      <th></th>\n",
       "      <th>date</th>\n",
       "      <th>PLACEKEY</th>\n",
       "      <th>visits_by_day</th>\n",
       "      <th>spend_by_day</th>\n",
       "      <th>brand_visitation</th>\n",
       "      <th>lat</th>\n",
       "      <th>lon</th>\n",
       "      <th>brand_standard</th>\n",
       "      <th>ID</th>\n",
       "      <th>Name</th>\n",
       "      <th>Genre</th>\n",
       "      <th>Type</th>\n",
       "      <th>Classification</th>\n",
       "      <th>Status</th>\n",
       "      <th>Name_Standard</th>\n",
       "    </tr>\n",
       "  </thead>\n",
       "  <tbody>\n",
       "    <tr>\n",
       "      <th>0</th>\n",
       "      <td>2019-06-01</td>\n",
       "      <td>zzw-222@62j-sgj-q2k</td>\n",
       "      <td>5</td>\n",
       "      <td>0.0</td>\n",
       "      <td>Orangetheory Fitness</td>\n",
       "      <td>42.350592</td>\n",
       "      <td>-71.153024</td>\n",
       "      <td>orangetheory fitness</td>\n",
       "      <td>67926.0</td>\n",
       "      <td>Orangetheory Fitness</td>\n",
       "      <td>BRN</td>\n",
       "      <td>Retail</td>\n",
       "      <td>Gyms &amp; Health Clubs</td>\n",
       "      <td>NaN</td>\n",
       "      <td>orangetheory fitness</td>\n",
       "    </tr>\n",
       "    <tr>\n",
       "      <th>1</th>\n",
       "      <td>2019-06-02</td>\n",
       "      <td>zzw-222@62j-sgj-q2k</td>\n",
       "      <td>1</td>\n",
       "      <td>0.0</td>\n",
       "      <td>Orangetheory Fitness</td>\n",
       "      <td>42.350592</td>\n",
       "      <td>-71.153024</td>\n",
       "      <td>orangetheory fitness</td>\n",
       "      <td>67926.0</td>\n",
       "      <td>Orangetheory Fitness</td>\n",
       "      <td>BRN</td>\n",
       "      <td>Retail</td>\n",
       "      <td>Gyms &amp; Health Clubs</td>\n",
       "      <td>NaN</td>\n",
       "      <td>orangetheory fitness</td>\n",
       "    </tr>\n",
       "    <tr>\n",
       "      <th>2</th>\n",
       "      <td>2019-06-03</td>\n",
       "      <td>zzw-222@62j-sgj-q2k</td>\n",
       "      <td>6</td>\n",
       "      <td>859.0</td>\n",
       "      <td>Orangetheory Fitness</td>\n",
       "      <td>42.350592</td>\n",
       "      <td>-71.153024</td>\n",
       "      <td>orangetheory fitness</td>\n",
       "      <td>67926.0</td>\n",
       "      <td>Orangetheory Fitness</td>\n",
       "      <td>BRN</td>\n",
       "      <td>Retail</td>\n",
       "      <td>Gyms &amp; Health Clubs</td>\n",
       "      <td>NaN</td>\n",
       "      <td>orangetheory fitness</td>\n",
       "    </tr>\n",
       "    <tr>\n",
       "      <th>3</th>\n",
       "      <td>2019-06-04</td>\n",
       "      <td>zzw-222@62j-sgj-q2k</td>\n",
       "      <td>6</td>\n",
       "      <td>30.0</td>\n",
       "      <td>Orangetheory Fitness</td>\n",
       "      <td>42.350592</td>\n",
       "      <td>-71.153024</td>\n",
       "      <td>orangetheory fitness</td>\n",
       "      <td>67926.0</td>\n",
       "      <td>Orangetheory Fitness</td>\n",
       "      <td>BRN</td>\n",
       "      <td>Retail</td>\n",
       "      <td>Gyms &amp; Health Clubs</td>\n",
       "      <td>NaN</td>\n",
       "      <td>orangetheory fitness</td>\n",
       "    </tr>\n",
       "    <tr>\n",
       "      <th>4</th>\n",
       "      <td>2019-06-05</td>\n",
       "      <td>zzw-222@62j-sgj-q2k</td>\n",
       "      <td>8</td>\n",
       "      <td>193.0</td>\n",
       "      <td>Orangetheory Fitness</td>\n",
       "      <td>42.350592</td>\n",
       "      <td>-71.153024</td>\n",
       "      <td>orangetheory fitness</td>\n",
       "      <td>67926.0</td>\n",
       "      <td>Orangetheory Fitness</td>\n",
       "      <td>BRN</td>\n",
       "      <td>Retail</td>\n",
       "      <td>Gyms &amp; Health Clubs</td>\n",
       "      <td>NaN</td>\n",
       "      <td>orangetheory fitness</td>\n",
       "    </tr>\n",
       "  </tbody>\n",
       "</table>\n",
       "</div>"
      ],
      "text/plain": [
       "         date             PLACEKEY  visits_by_day  spend_by_day  \\\n",
       "0  2019-06-01  zzw-222@62j-sgj-q2k              5           0.0   \n",
       "1  2019-06-02  zzw-222@62j-sgj-q2k              1           0.0   \n",
       "2  2019-06-03  zzw-222@62j-sgj-q2k              6         859.0   \n",
       "3  2019-06-04  zzw-222@62j-sgj-q2k              6          30.0   \n",
       "4  2019-06-05  zzw-222@62j-sgj-q2k              8         193.0   \n",
       "\n",
       "       brand_visitation        lat        lon        brand_standard       ID  \\\n",
       "0  Orangetheory Fitness  42.350592 -71.153024  orangetheory fitness  67926.0   \n",
       "1  Orangetheory Fitness  42.350592 -71.153024  orangetheory fitness  67926.0   \n",
       "2  Orangetheory Fitness  42.350592 -71.153024  orangetheory fitness  67926.0   \n",
       "3  Orangetheory Fitness  42.350592 -71.153024  orangetheory fitness  67926.0   \n",
       "4  Orangetheory Fitness  42.350592 -71.153024  orangetheory fitness  67926.0   \n",
       "\n",
       "                   Name Genre    Type       Classification Status  \\\n",
       "0  Orangetheory Fitness   BRN  Retail  Gyms & Health Clubs    NaN   \n",
       "1  Orangetheory Fitness   BRN  Retail  Gyms & Health Clubs    NaN   \n",
       "2  Orangetheory Fitness   BRN  Retail  Gyms & Health Clubs    NaN   \n",
       "3  Orangetheory Fitness   BRN  Retail  Gyms & Health Clubs    NaN   \n",
       "4  Orangetheory Fitness   BRN  Retail  Gyms & Health Clubs    NaN   \n",
       "\n",
       "          Name_Standard  \n",
       "0  orangetheory fitness  \n",
       "1  orangetheory fitness  \n",
       "2  orangetheory fitness  \n",
       "3  orangetheory fitness  \n",
       "4  orangetheory fitness  "
      ]
     },
     "execution_count": 7,
     "metadata": {},
     "output_type": "execute_result"
    }
   ],
   "source": [
    "brand_catalog_visits = pd.merge(left=brands_visits, right=brands_catalog, how=\"left\", left_on=\"brand_standard\", right_on=\"Name_Standard\")\n",
    "brand_catalog_visits.head()"
   ]
  },
  {
   "cell_type": "code",
   "execution_count": 8,
   "metadata": {},
   "outputs": [],
   "source": [
    "brand_catalog_visits = brand_catalog_visits[~pd.isna(brand_catalog_visits['ID'])]"
   ]
  },
  {
   "cell_type": "code",
   "execution_count": 9,
   "metadata": {},
   "outputs": [
    {
     "name": "stdout",
     "output_type": "stream",
     "text": [
      "Unique Brands having visitation data and Valid ID from catalog:  435\n"
     ]
    }
   ],
   "source": [
    "print('Unique Brands having visitation data and Valid ID from catalog: ', len(brand_catalog_visits['Name_Standard'].unique()))"
   ]
  },
  {
   "cell_type": "markdown",
   "metadata": {},
   "source": [
    "### Getting the social data"
   ]
  },
  {
   "cell_type": "code",
   "execution_count": 10,
   "metadata": {},
   "outputs": [
    {
     "data": {
      "text/html": [
       "<div>\n",
       "<style scoped>\n",
       "    .dataframe tbody tr th:only-of-type {\n",
       "        vertical-align: middle;\n",
       "    }\n",
       "\n",
       "    .dataframe tbody tr th {\n",
       "        vertical-align: top;\n",
       "    }\n",
       "\n",
       "    .dataframe thead th {\n",
       "        text-align: right;\n",
       "    }\n",
       "</style>\n",
       "<table border=\"1\" class=\"dataframe\">\n",
       "  <thead>\n",
       "    <tr style=\"text-align: right;\">\n",
       "      <th></th>\n",
       "      <th>id</th>\n",
       "      <th>num_review_fb</th>\n",
       "      <th>num_review_ig</th>\n",
       "      <th>num_review_tw</th>\n",
       "      <th>date</th>\n",
       "      <th>brand</th>\n",
       "    </tr>\n",
       "  </thead>\n",
       "  <tbody>\n",
       "    <tr>\n",
       "      <th>0</th>\n",
       "      <td>9</td>\n",
       "      <td>5286.0</td>\n",
       "      <td>13737.0</td>\n",
       "      <td>18.0</td>\n",
       "      <td>2019-01-01</td>\n",
       "      <td>2Pac</td>\n",
       "    </tr>\n",
       "    <tr>\n",
       "      <th>1</th>\n",
       "      <td>11</td>\n",
       "      <td>1526.0</td>\n",
       "      <td>2559.0</td>\n",
       "      <td>210.0</td>\n",
       "      <td>2019-01-01</td>\n",
       "      <td>30 Seconds To Mars</td>\n",
       "    </tr>\n",
       "    <tr>\n",
       "      <th>2</th>\n",
       "      <td>12</td>\n",
       "      <td>20.0</td>\n",
       "      <td>604.0</td>\n",
       "      <td>17.0</td>\n",
       "      <td>2019-01-01</td>\n",
       "      <td>311 (Band)</td>\n",
       "    </tr>\n",
       "    <tr>\n",
       "      <th>3</th>\n",
       "      <td>23</td>\n",
       "      <td>1.0</td>\n",
       "      <td>1.0</td>\n",
       "      <td>0.0</td>\n",
       "      <td>2019-01-01</td>\n",
       "      <td>6ixth Sense</td>\n",
       "    </tr>\n",
       "    <tr>\n",
       "      <th>4</th>\n",
       "      <td>26</td>\n",
       "      <td>50.0</td>\n",
       "      <td>507.0</td>\n",
       "      <td>0.0</td>\n",
       "      <td>2019-01-01</td>\n",
       "      <td>8Ball &amp; MJG</td>\n",
       "    </tr>\n",
       "  </tbody>\n",
       "</table>\n",
       "</div>"
      ],
      "text/plain": [
       "   id  num_review_fb  num_review_ig  num_review_tw        date  \\\n",
       "0   9         5286.0        13737.0           18.0  2019-01-01   \n",
       "1  11         1526.0         2559.0          210.0  2019-01-01   \n",
       "2  12           20.0          604.0           17.0  2019-01-01   \n",
       "3  23            1.0            1.0            0.0  2019-01-01   \n",
       "4  26           50.0          507.0            0.0  2019-01-01   \n",
       "\n",
       "                brand  \n",
       "0                2Pac  \n",
       "1  30 Seconds To Mars  \n",
       "2          311 (Band)  \n",
       "3         6ixth Sense  \n",
       "4         8Ball & MJG  "
      ]
     },
     "execution_count": 10,
     "metadata": {},
     "output_type": "execute_result"
    }
   ],
   "source": [
    "social_data = pd.read_csv('data/social.csv')\n",
    "social_data['date'] = social_data['date'].apply(lambda x: datetime.datetime.strptime(x, '%Y-%m-%d').date())\n",
    "social_data.head()"
   ]
  },
  {
   "cell_type": "markdown",
   "metadata": {},
   "source": [
    "Getting all the unique IDs of brands who have visitation data and a respective ID in brands catalog"
   ]
  },
  {
   "cell_type": "code",
   "execution_count": 11,
   "metadata": {},
   "outputs": [],
   "source": [
    "brand_catalog_visits_unique_id = list(np.int64(brand_catalog_visits['ID'].unique()))"
   ]
  },
  {
   "cell_type": "markdown",
   "metadata": {},
   "source": [
    "Getting the social data for brands which have visitation data and catalog ID"
   ]
  },
  {
   "cell_type": "code",
   "execution_count": 12,
   "metadata": {},
   "outputs": [],
   "source": [
    "social_data = social_data[social_data['id'].isin(brand_catalog_visits_unique_id)]"
   ]
  },
  {
   "cell_type": "code",
   "execution_count": 13,
   "metadata": {},
   "outputs": [
    {
     "name": "stdout",
     "output_type": "stream",
     "text": [
      "Unique brands having social data, visitation data and Valid ID from catalog:  427\n"
     ]
    }
   ],
   "source": [
    "print('Unique brands having social data, visitation data and Valid ID from catalog: ', len(social_data['id'].unique()))"
   ]
  },
  {
   "cell_type": "code",
   "execution_count": 14,
   "metadata": {},
   "outputs": [
    {
     "data": {
      "text/plain": [
       "140288"
      ]
     },
     "execution_count": 14,
     "metadata": {},
     "output_type": "execute_result"
    }
   ],
   "source": [
    "len(social_data)"
   ]
  },
  {
   "cell_type": "markdown",
   "metadata": {},
   "source": [
    "Saving all the important dataframes as pickle files to be loaded again"
   ]
  },
  {
   "cell_type": "code",
   "execution_count": 15,
   "metadata": {},
   "outputs": [],
   "source": [
    "with open('top_brands.pickle', 'wb') as file:\n",
    "    pickle.dump(top_brands, file)"
   ]
  },
  {
   "cell_type": "code",
   "execution_count": 16,
   "metadata": {},
   "outputs": [],
   "source": [
    "with open('brand_catalog_visits.pickle', 'wb') as file:\n",
    "    pickle.dump(brand_catalog_visits, file)"
   ]
  },
  {
   "cell_type": "code",
   "execution_count": 17,
   "metadata": {},
   "outputs": [],
   "source": [
    "with open('social_data.pickle', 'wb') as file:\n",
    "    pickle.dump(social_data, file)"
   ]
  },
  {
   "cell_type": "code",
   "execution_count": null,
   "metadata": {},
   "outputs": [],
   "source": []
  },
  {
   "cell_type": "code",
   "execution_count": null,
   "metadata": {},
   "outputs": [],
   "source": []
  }
 ],
 "metadata": {
  "kernelspec": {
   "display_name": "business-network",
   "language": "python",
   "name": "python3"
  },
  "language_info": {
   "codemirror_mode": {
    "name": "ipython",
    "version": 3
   },
   "file_extension": ".py",
   "mimetype": "text/x-python",
   "name": "python",
   "nbconvert_exporter": "python",
   "pygments_lexer": "ipython3",
   "version": "undefined.undefined.undefined"
  }
 },
 "nbformat": 4,
 "nbformat_minor": 2
}
